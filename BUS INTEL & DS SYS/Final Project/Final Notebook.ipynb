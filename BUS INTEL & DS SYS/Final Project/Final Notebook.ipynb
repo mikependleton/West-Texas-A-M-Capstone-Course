{
 "cells": [
  {
   "cell_type": "code",
   "execution_count": 1,
   "metadata": {},
   "outputs": [],
   "source": [
    "#2 Import the pandas package:\n",
    "import pandas as pd"
   ]
  },
  {
   "cell_type": "code",
   "execution_count": 2,
   "metadata": {},
   "outputs": [
    {
     "data": {
      "text/html": [
       "<div>\n",
       "<style scoped>\n",
       "    .dataframe tbody tr th:only-of-type {\n",
       "        vertical-align: middle;\n",
       "    }\n",
       "\n",
       "    .dataframe tbody tr th {\n",
       "        vertical-align: top;\n",
       "    }\n",
       "\n",
       "    .dataframe thead th {\n",
       "        text-align: right;\n",
       "    }\n",
       "</style>\n",
       "<table border=\"1\" class=\"dataframe\">\n",
       "  <thead>\n",
       "    <tr style=\"text-align: right;\">\n",
       "      <th></th>\n",
       "      <th>incident_number</th>\n",
       "      <th>area_occ</th>\n",
       "      <th>rpt_dist</th>\n",
       "      <th>dispatch_date</th>\n",
       "      <th>dispatch_time</th>\n",
       "      <th>call_type_code</th>\n",
       "      <th>call_type_text</th>\n",
       "    </tr>\n",
       "  </thead>\n",
       "  <tbody>\n",
       "    <tr>\n",
       "      <th>0</th>\n",
       "      <td>PD20032400001494</td>\n",
       "      <td>Van Nuys</td>\n",
       "      <td>906.0</td>\n",
       "      <td>2020-03-24T00:00:00.000</td>\n",
       "      <td>2023-07-20 09:34:26</td>\n",
       "      <td>006</td>\n",
       "      <td>CODE 6</td>\n",
       "    </tr>\n",
       "    <tr>\n",
       "      <th>1</th>\n",
       "      <td>PD20032800004517</td>\n",
       "      <td>Central</td>\n",
       "      <td>182.0</td>\n",
       "      <td>2020-03-28T00:00:00.000</td>\n",
       "      <td>2023-07-20 21:19:40</td>\n",
       "      <td>242DS</td>\n",
       "      <td>DOM VIOL SUSP</td>\n",
       "    </tr>\n",
       "    <tr>\n",
       "      <th>2</th>\n",
       "      <td>PD20032500004416</td>\n",
       "      <td>Outside</td>\n",
       "      <td>NaN</td>\n",
       "      <td>2020-03-25T00:00:00.000</td>\n",
       "      <td>2023-07-20 18:18:34</td>\n",
       "      <td>006</td>\n",
       "      <td>CODE 6</td>\n",
       "    </tr>\n",
       "    <tr>\n",
       "      <th>3</th>\n",
       "      <td>PD20032500003685</td>\n",
       "      <td>Outside</td>\n",
       "      <td>NaN</td>\n",
       "      <td>2020-03-25T00:00:00.000</td>\n",
       "      <td>2023-07-20 16:14:42</td>\n",
       "      <td>006</td>\n",
       "      <td>CODE 6</td>\n",
       "    </tr>\n",
       "    <tr>\n",
       "      <th>4</th>\n",
       "      <td>PD20032300004227</td>\n",
       "      <td>Hollywood</td>\n",
       "      <td>668.0</td>\n",
       "      <td>2020-03-23T00:00:00.000</td>\n",
       "      <td>2023-07-20 18:22:28</td>\n",
       "      <td>9212</td>\n",
       "      <td>TRESPASS SUSP</td>\n",
       "    </tr>\n",
       "    <tr>\n",
       "      <th>...</th>\n",
       "      <td>...</td>\n",
       "      <td>...</td>\n",
       "      <td>...</td>\n",
       "      <td>...</td>\n",
       "      <td>...</td>\n",
       "      <td>...</td>\n",
       "      <td>...</td>\n",
       "    </tr>\n",
       "    <tr>\n",
       "      <th>995</th>\n",
       "      <td>PD20032500001911</td>\n",
       "      <td>Foothill</td>\n",
       "      <td>1669.0</td>\n",
       "      <td>2020-03-25T00:00:00.000</td>\n",
       "      <td>2023-07-20 11:01:29</td>\n",
       "      <td>006</td>\n",
       "      <td>CODE 6</td>\n",
       "    </tr>\n",
       "    <tr>\n",
       "      <th>996</th>\n",
       "      <td>PD20032400003464</td>\n",
       "      <td>77th Street</td>\n",
       "      <td>1266.0</td>\n",
       "      <td>2020-03-24T00:00:00.000</td>\n",
       "      <td>2023-07-20 15:28:47</td>\n",
       "      <td>242PS</td>\n",
       "      <td>POSS SUSP</td>\n",
       "    </tr>\n",
       "    <tr>\n",
       "      <th>997</th>\n",
       "      <td>PD20032500000188</td>\n",
       "      <td>Outside</td>\n",
       "      <td>NaN</td>\n",
       "      <td>2020-03-25T00:00:00.000</td>\n",
       "      <td>2023-07-20 01:14:25</td>\n",
       "      <td>006</td>\n",
       "      <td>CODE 6</td>\n",
       "    </tr>\n",
       "    <tr>\n",
       "      <th>998</th>\n",
       "      <td>PD20032200000314</td>\n",
       "      <td>Hollenbeck</td>\n",
       "      <td>407.0</td>\n",
       "      <td>2020-03-22T00:00:00.000</td>\n",
       "      <td>2023-07-20 01:24:09</td>\n",
       "      <td>245FJ</td>\n",
       "      <td>SHOTS FIRED J/O</td>\n",
       "    </tr>\n",
       "    <tr>\n",
       "      <th>999</th>\n",
       "      <td>PD20032700004199</td>\n",
       "      <td>Central</td>\n",
       "      <td>156.0</td>\n",
       "      <td>2020-03-27T00:00:00.000</td>\n",
       "      <td>2023-07-20 19:37:31</td>\n",
       "      <td>415W</td>\n",
       "      <td>WOMAN</td>\n",
       "    </tr>\n",
       "  </tbody>\n",
       "</table>\n",
       "<p>1000 rows × 7 columns</p>\n",
       "</div>"
      ],
      "text/plain": [
       "      incident_number     area_occ  rpt_dist            dispatch_date  \\\n",
       "0    PD20032400001494     Van Nuys     906.0  2020-03-24T00:00:00.000   \n",
       "1    PD20032800004517      Central     182.0  2020-03-28T00:00:00.000   \n",
       "2    PD20032500004416      Outside       NaN  2020-03-25T00:00:00.000   \n",
       "3    PD20032500003685      Outside       NaN  2020-03-25T00:00:00.000   \n",
       "4    PD20032300004227    Hollywood     668.0  2020-03-23T00:00:00.000   \n",
       "..                ...          ...       ...                      ...   \n",
       "995  PD20032500001911     Foothill    1669.0  2020-03-25T00:00:00.000   \n",
       "996  PD20032400003464  77th Street    1266.0  2020-03-24T00:00:00.000   \n",
       "997  PD20032500000188      Outside       NaN  2020-03-25T00:00:00.000   \n",
       "998  PD20032200000314   Hollenbeck     407.0  2020-03-22T00:00:00.000   \n",
       "999  PD20032700004199      Central     156.0  2020-03-27T00:00:00.000   \n",
       "\n",
       "          dispatch_time call_type_code   call_type_text  \n",
       "0   2023-07-20 09:34:26            006           CODE 6  \n",
       "1   2023-07-20 21:19:40          242DS    DOM VIOL SUSP  \n",
       "2   2023-07-20 18:18:34            006           CODE 6  \n",
       "3   2023-07-20 16:14:42            006           CODE 6  \n",
       "4   2023-07-20 18:22:28           9212    TRESPASS SUSP  \n",
       "..                  ...            ...              ...  \n",
       "995 2023-07-20 11:01:29            006           CODE 6  \n",
       "996 2023-07-20 15:28:47          242PS        POSS SUSP  \n",
       "997 2023-07-20 01:14:25            006           CODE 6  \n",
       "998 2023-07-20 01:24:09          245FJ  SHOTS FIRED J/O  \n",
       "999 2023-07-20 19:37:31           415W            WOMAN  \n",
       "\n",
       "[1000 rows x 7 columns]"
      ]
     },
     "execution_count": 2,
     "metadata": {},
     "output_type": "execute_result"
    }
   ],
   "source": [
    "#call type text for 2020\n",
    "\n",
    "year2020_url = pd.read_json('https://data.lacity.org/resource/84iq-i2r6.json')\n",
    "#data_frame = pd.read_csv(file_url, delimiter=';')\n",
    "year2020_url"
   ]
  },
  {
   "cell_type": "code",
   "execution_count": 3,
   "metadata": {},
   "outputs": [
    {
     "data": {
      "image/png": "[encoded data removed]",
      "text/plain": [
       "<Figure size 432x288 with 1 Axes>"
      ]
     },
     "metadata": {
      "needs_background": "light"
     },
     "output_type": "display_data"
    }
   ],
   "source": [
    "import matplotlib.pyplot as plt\n",
    "\n",
    "#Graph of call type text\n",
    "\n",
    "\n",
    "graph_codetext = year2020_url['call_type_text'].value_counts()[:20].plot(kind='barh')\n"
   ]
  },
  {
   "cell_type": "code",
   "execution_count": 35,
   "metadata": {},
   "outputs": [
    {
     "data": {
      "text/plain": [
       "<matplotlib.collections.PathCollection at 0x1104d00>"
      ]
     },
     "execution_count": 35,
     "metadata": {},
     "output_type": "execute_result"
    },
    {
     "data": {
      "image/png": "[encoded data removed]",
      "text/plain": [
       "<Figure size 432x288 with 1 Axes>"
      ]
     },
     "metadata": {
      "needs_background": "light"
     },
     "output_type": "display_data"
    }
   ],
   "source": [
    "#Times and locations for calls\n",
    "\n",
    "\n",
    "plt.scatter(year2020_url.dispatch_time, year2020_url.area_occ)"
   ]
  },
  {
   "cell_type": "code",
   "execution_count": 4,
   "metadata": {},
   "outputs": [
    {
     "data": {
      "text/html": [
       "<div>\n",
       "<style scoped>\n",
       "    .dataframe tbody tr th:only-of-type {\n",
       "        vertical-align: middle;\n",
       "    }\n",
       "\n",
       "    .dataframe tbody tr th {\n",
       "        vertical-align: top;\n",
       "    }\n",
       "\n",
       "    .dataframe thead th {\n",
       "        text-align: right;\n",
       "    }\n",
       "</style>\n",
       "<table border=\"1\" class=\"dataframe\">\n",
       "  <thead>\n",
       "    <tr style=\"text-align: right;\">\n",
       "      <th></th>\n",
       "      <th>incident_number</th>\n",
       "      <th>area_occ</th>\n",
       "      <th>rpt_dist</th>\n",
       "      <th>dispatch_date</th>\n",
       "      <th>dispatch_time</th>\n",
       "      <th>call_type_code</th>\n",
       "      <th>call_type_text</th>\n",
       "    </tr>\n",
       "  </thead>\n",
       "  <tbody>\n",
       "    <tr>\n",
       "      <th>0</th>\n",
       "      <td>LPD190101005322</td>\n",
       "      <td>Foothill</td>\n",
       "      <td>1651.0</td>\n",
       "      <td>2019-01-01T00:00:00.000</td>\n",
       "      <td>2023-07-20 21:54:06</td>\n",
       "      <td>902</td>\n",
       "      <td>TRAFFIC STOP</td>\n",
       "    </tr>\n",
       "    <tr>\n",
       "      <th>1</th>\n",
       "      <td>LPD190101002954</td>\n",
       "      <td>Northeast</td>\n",
       "      <td>1142.0</td>\n",
       "      <td>2019-01-01T00:00:00.000</td>\n",
       "      <td>2023-07-20 12:41:53</td>\n",
       "      <td>620M</td>\n",
       "      <td>MAN/WMN</td>\n",
       "    </tr>\n",
       "    <tr>\n",
       "      <th>2</th>\n",
       "      <td>LPD190101003213</td>\n",
       "      <td>Outside</td>\n",
       "      <td>NaN</td>\n",
       "      <td>2019-01-01T00:00:00.000</td>\n",
       "      <td>2023-07-20 13:41:39</td>\n",
       "      <td>006</td>\n",
       "      <td>CODE 6</td>\n",
       "    </tr>\n",
       "    <tr>\n",
       "      <th>3</th>\n",
       "      <td>LPD190101002749</td>\n",
       "      <td>Devonshire</td>\n",
       "      <td>1715.0</td>\n",
       "      <td>2019-01-01T00:00:00.000</td>\n",
       "      <td>2023-07-20 11:41:27</td>\n",
       "      <td>906B1</td>\n",
       "      <td>CODE 30 RINGER</td>\n",
       "    </tr>\n",
       "    <tr>\n",
       "      <th>4</th>\n",
       "      <td>LPD190101005153</td>\n",
       "      <td>West Valley</td>\n",
       "      <td>1029.0</td>\n",
       "      <td>2019-01-01T00:00:00.000</td>\n",
       "      <td>2023-07-20 21:16:31</td>\n",
       "      <td>902</td>\n",
       "      <td>TRAFFIC STOP</td>\n",
       "    </tr>\n",
       "    <tr>\n",
       "      <th>...</th>\n",
       "      <td>...</td>\n",
       "      <td>...</td>\n",
       "      <td>...</td>\n",
       "      <td>...</td>\n",
       "      <td>...</td>\n",
       "      <td>...</td>\n",
       "      <td>...</td>\n",
       "    </tr>\n",
       "    <tr>\n",
       "      <th>995</th>\n",
       "      <td>LPD190101001395</td>\n",
       "      <td>77th Street</td>\n",
       "      <td>1268.0</td>\n",
       "      <td>2019-01-01T00:00:00.000</td>\n",
       "      <td>2023-07-20 03:44:56</td>\n",
       "      <td>242D</td>\n",
       "      <td>DOM VIOL</td>\n",
       "    </tr>\n",
       "    <tr>\n",
       "      <th>996</th>\n",
       "      <td>LPD190101003538</td>\n",
       "      <td>West LA</td>\n",
       "      <td>897.0</td>\n",
       "      <td>2019-01-01T00:00:00.000</td>\n",
       "      <td>2023-07-20 15:34:28</td>\n",
       "      <td>507R</td>\n",
       "      <td>RADIO</td>\n",
       "    </tr>\n",
       "    <tr>\n",
       "      <th>997</th>\n",
       "      <td>LPD190101004535</td>\n",
       "      <td>Outside</td>\n",
       "      <td>NaN</td>\n",
       "      <td>2019-01-01T00:00:00.000</td>\n",
       "      <td>2023-07-20 19:06:54</td>\n",
       "      <td>006</td>\n",
       "      <td>CODE 6</td>\n",
       "    </tr>\n",
       "    <tr>\n",
       "      <th>998</th>\n",
       "      <td>LPD190101002874</td>\n",
       "      <td>Outside</td>\n",
       "      <td>NaN</td>\n",
       "      <td>2019-01-01T00:00:00.000</td>\n",
       "      <td>2023-07-20 12:12:48</td>\n",
       "      <td>006</td>\n",
       "      <td>CODE 6</td>\n",
       "    </tr>\n",
       "    <tr>\n",
       "      <th>999</th>\n",
       "      <td>LPD190101004097</td>\n",
       "      <td>Outside</td>\n",
       "      <td>NaN</td>\n",
       "      <td>2019-01-01T00:00:00.000</td>\n",
       "      <td>2023-07-20 17:16:06</td>\n",
       "      <td>006</td>\n",
       "      <td>CODE 6</td>\n",
       "    </tr>\n",
       "  </tbody>\n",
       "</table>\n",
       "<p>1000 rows × 7 columns</p>\n",
       "</div>"
      ],
      "text/plain": [
       "     incident_number     area_occ  rpt_dist            dispatch_date  \\\n",
       "0    LPD190101005322     Foothill    1651.0  2019-01-01T00:00:00.000   \n",
       "1    LPD190101002954    Northeast    1142.0  2019-01-01T00:00:00.000   \n",
       "2    LPD190101003213      Outside       NaN  2019-01-01T00:00:00.000   \n",
       "3    LPD190101002749   Devonshire    1715.0  2019-01-01T00:00:00.000   \n",
       "4    LPD190101005153  West Valley    1029.0  2019-01-01T00:00:00.000   \n",
       "..               ...          ...       ...                      ...   \n",
       "995  LPD190101001395  77th Street    1268.0  2019-01-01T00:00:00.000   \n",
       "996  LPD190101003538      West LA     897.0  2019-01-01T00:00:00.000   \n",
       "997  LPD190101004535      Outside       NaN  2019-01-01T00:00:00.000   \n",
       "998  LPD190101002874      Outside       NaN  2019-01-01T00:00:00.000   \n",
       "999  LPD190101004097      Outside       NaN  2019-01-01T00:00:00.000   \n",
       "\n",
       "          dispatch_time call_type_code  call_type_text  \n",
       "0   2023-07-20 21:54:06            902    TRAFFIC STOP  \n",
       "1   2023-07-20 12:41:53           620M         MAN/WMN  \n",
       "2   2023-07-20 13:41:39            006          CODE 6  \n",
       "3   2023-07-20 11:41:27          906B1  CODE 30 RINGER  \n",
       "4   2023-07-20 21:16:31            902    TRAFFIC STOP  \n",
       "..                  ...            ...             ...  \n",
       "995 2023-07-20 03:44:56           242D        DOM VIOL  \n",
       "996 2023-07-20 15:34:28           507R           RADIO  \n",
       "997 2023-07-20 19:06:54            006          CODE 6  \n",
       "998 2023-07-20 12:12:48            006          CODE 6  \n",
       "999 2023-07-20 17:16:06            006          CODE 6  \n",
       "\n",
       "[1000 rows x 7 columns]"
      ]
     },
     "execution_count": 4,
     "metadata": {},
     "output_type": "execute_result"
    }
   ],
   "source": [
    "#call type text for 2019\n",
    "\n",
    "year2019_url = pd.read_json('https://data.lacity.org/resource/r4ka-x5je.json')\n",
    "#data_frame = pd.read_csv(file_url, delimiter=';')\n",
    "year2019_url"
   ]
  },
  {
   "cell_type": "code",
   "execution_count": 5,
   "metadata": {},
   "outputs": [
    {
     "data": {
      "image/png": "[encoded data removed]",
      "text/plain": [
       "<Figure size 432x288 with 1 Axes>"
      ]
     },
     "metadata": {
      "needs_background": "light"
     },
     "output_type": "display_data"
    }
   ],
   "source": [
    "graph_codetext2 = year2019_url['call_type_text'].value_counts()[:20].plot(kind='barh')"
   ]
  },
  {
   "cell_type": "code",
   "execution_count": null,
   "metadata": {},
   "outputs": [],
   "source": []
  },
  {
   "cell_type": "code",
   "execution_count": 33,
   "metadata": {},
   "outputs": [
    {
     "data": {
      "text/plain": [
       "<matplotlib.collections.PathCollection at 0xef9298>"
      ]
     },
     "execution_count": 33,
     "metadata": {},
     "output_type": "execute_result"
    },
    {
     "data": {
      "image/png": "[encoded data removed]",
      "text/plain": [
       "<Figure size 432x288 with 1 Axes>"
      ]
     },
     "metadata": {
      "needs_background": "light"
     },
     "output_type": "display_data"
    }
   ],
   "source": [
    "#Time and location for calls.\n",
    "\n",
    "graph_codetext3 = year2019_url[['dispatch_time','area_occ']].copy()\n",
    "\n",
    "\n",
    "\n",
    "plt.scatter(graph_codetext3.dispatch_time, graph_codetext3.area_occ)\n",
    "\n",
    "\n"
   ]
  },
  {
   "cell_type": "code",
   "execution_count": null,
   "metadata": {},
   "outputs": [],
   "source": []
  },
  {
   "cell_type": "code",
   "execution_count": null,
   "metadata": {},
   "outputs": [],
   "source": []
  },
  {
   "cell_type": "code",
   "execution_count": null,
   "metadata": {},
   "outputs": [],
   "source": []
  }
 ],
 "metadata": {
  "colab": {
   "collapsed_sections": [],
   "name": "Activity_01_01.ipynb",
   "provenance": []
  },
  "kernelspec": {
   "display_name": "Python 3",
   "language": "python",
   "name": "python3"
  },
  "language_info": {
   "codemirror_mode": {
    "name": "ipython",
    "version": 3
   },
   "file_extension": ".py",
   "mimetype": "text/x-python",
   "name": "python",
   "nbconvert_exporter": "python",
   "pygments_lexer": "ipython3",
   "version": "3.8.6"
  }
 },
 "nbformat": 4,
 "nbformat_minor": 1
}
