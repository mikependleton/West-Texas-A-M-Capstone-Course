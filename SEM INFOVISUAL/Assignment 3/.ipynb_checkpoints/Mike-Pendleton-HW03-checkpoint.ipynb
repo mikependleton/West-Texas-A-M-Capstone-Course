{
 "cells": [
  {
   "cell_type": "markdown",
   "metadata": {},
   "source": [
    "## <font color=blue>  Homework #3: Querying and plotting Multivariate data </font>\n",
    "\n",
    "## Total Points  : 80  \n",
    "### <font color=red> Due: Tuesday 03/30/2021 11:59 PM </font>\n",
    "### Objective : Assess your ability to use multivariate data plotting techniques\n",
    "\n",
    "#### Skills needed:  In this homework assignment, you'll be using the concepts you've learned to\n",
    "1. Edit and run  Jupyter notebooks\n",
    "2. Write Python code using `Pandas` and `Matplotlib` packages to :\n",
    "    * import the Pandas and matplotlib packages\n",
    "    * read dataset from file into Pandas dataframe\n",
    "    * index and query the dataframe \n",
    "    * Use color maps\n",
    "    * Map data values to visual variables (colors, sizes, shapes, etc.)\n",
    "    * sort dataframe according to a column values\n",
    "    * Make visiuals using bar and Pie plots with multiple variables \n",
    "    * Use subplots to create juxtaposed multiple displays"
   ]
  },
  {
   "cell_type": "markdown",
   "metadata": {},
   "source": [
    "***\n",
    "Please type your name below"
   ]
  },
  {
   "cell_type": "markdown",
   "metadata": {
    "collapsed": true
   },
   "source": [
    "## <font color=Blue> Your Name: Mike Pendleton</font>"
   ]
  },
  {
   "cell_type": "markdown",
   "metadata": {},
   "source": [
    "***"
   ]
  },
  {
   "cell_type": "markdown",
   "metadata": {
    "collapsed": true
   },
   "source": [
    "## Requirements & Submission:\n",
    "1. Use this notebook as a template for your answers. Then rename it and submitted as ipynb (jupyter notebook) \n",
    "2. Submit on WTClass (“Resources >> Assignments >> Homework#3 \n",
    "3. The file name must be your ``first name``+ \"-\"+ ``Last name`` followed by \"-HW3.ipynb\".\n",
    "4. Each task's answer must be after the task description\n",
    "5. Answers and explainations must be properly formatted in the properiate Cell type\n",
    "8. You can add as many cells as you needed\n",
    "9. You should submit final ***clean version*** of your notebook, i.e. remove any experimenting cells\n"
   ]
  },
  {
   "cell_type": "markdown",
   "metadata": {},
   "source": [
    "### Grading <font color = purple> [80 points] </font>\n",
    "1. This assignment contains 3 required tasks (80 total points) \n",
    "    * Task 1: reading the data,  has 10 points\n",
    "    * Task 2: Making Multiple pie-charts using subplots,  has 35 points\n",
    "    * Task 3: Making multiple Bar plots using subplots, has 35 points\n",
    "    \n",
    "1. You'll earn full points for each command that gives the desired output if it follow the rules\n",
    "2. Non-executable commands will get 0 points\n",
    "3. Partial credit will be given for executable non-complete tasks"
   ]
  },
  {
   "cell_type": "markdown",
   "metadata": {},
   "source": [
    "### <font color = darkred> Task 1-[10 points]</font>:<font color=blue> Reading the dataset</font>\n",
    "Import needed libraries and Read the attached csv file (`SalesTotalByRegion.csv`) into a dataframe named as `SalesData`. This dataset shows the total sales of 4 beverage categories (`'Tea', 'Espresso','Coffee','Herbal Tea'`) across 4 regions (`'West','Central','East','South'`)."
   ]
  },
  {
   "cell_type": "markdown",
   "metadata": {},
   "source": [
    "### <font color=Green> Task 1 Answer: </font>"
   ]
  },
  {
   "cell_type": "code",
   "execution_count": 20,
   "metadata": {},
   "outputs": [],
   "source": [
    "import pandas as pd\n",
    "import numpy as np\n",
    "import matplotlib.pyplot as plt"
   ]
  },
  {
   "cell_type": "code",
   "execution_count": 6,
   "metadata": {},
   "outputs": [],
   "source": [
    "SalesData = pd.read_csv(\"SalesTotalByRegion.csv\")"
   ]
  },
  {
   "cell_type": "code",
   "execution_count": 7,
   "metadata": {},
   "outputs": [
    {
     "data": {
      "text/html": [
       "<div>\n",
       "<style scoped>\n",
       "    .dataframe tbody tr th:only-of-type {\n",
       "        vertical-align: middle;\n",
       "    }\n",
       "\n",
       "    .dataframe tbody tr th {\n",
       "        vertical-align: top;\n",
       "    }\n",
       "\n",
       "    .dataframe thead th {\n",
       "        text-align: right;\n",
       "    }\n",
       "</style>\n",
       "<table border=\"1\" class=\"dataframe\">\n",
       "  <thead>\n",
       "    <tr style=\"text-align: right;\">\n",
       "      <th></th>\n",
       "      <th>Region</th>\n",
       "      <th>Tea</th>\n",
       "      <th>Espresso</th>\n",
       "      <th>Coffee</th>\n",
       "      <th>Herbal Tea</th>\n",
       "    </tr>\n",
       "  </thead>\n",
       "  <tbody>\n",
       "    <tr>\n",
       "      <th>0</th>\n",
       "      <td>West</td>\n",
       "      <td>35338</td>\n",
       "      <td>34200</td>\n",
       "      <td>28306</td>\n",
       "      <td>35391</td>\n",
       "    </tr>\n",
       "    <tr>\n",
       "      <th>1</th>\n",
       "      <td>Central</td>\n",
       "      <td>33451</td>\n",
       "      <td>29206</td>\n",
       "      <td>33808</td>\n",
       "      <td>33215</td>\n",
       "    </tr>\n",
       "    <tr>\n",
       "      <th>2</th>\n",
       "      <td>East</td>\n",
       "      <td>15745</td>\n",
       "      <td>23672</td>\n",
       "      <td>27740</td>\n",
       "      <td>20241</td>\n",
       "    </tr>\n",
       "    <tr>\n",
       "      <th>3</th>\n",
       "      <td>South</td>\n",
       "      <td>0</td>\n",
       "      <td>22008</td>\n",
       "      <td>16280</td>\n",
       "      <td>12558</td>\n",
       "    </tr>\n",
       "  </tbody>\n",
       "</table>\n",
       "</div>"
      ],
      "text/plain": [
       "    Region    Tea  Espresso  Coffee  Herbal Tea\n",
       "0     West  35338     34200   28306       35391\n",
       "1  Central  33451     29206   33808       33215\n",
       "2     East  15745     23672   27740       20241\n",
       "3    South      0     22008   16280       12558"
      ]
     },
     "execution_count": 7,
     "metadata": {},
     "output_type": "execute_result"
    }
   ],
   "source": [
    "SalesData"
   ]
  },
  {
   "cell_type": "markdown",
   "metadata": {},
   "source": [
    "---------------"
   ]
  },
  {
   "cell_type": "markdown",
   "metadata": {},
   "source": [
    "### <font color = darkred>Task 2-[35 points]</font>  :<font color=blue> Make Pie plots of the variables of the dataset using multiple Juxtaposed displays:</font> \n",
    "Using the dataframe  `SalesData`  write Python code to show the percentage of each category sales in each region as shown in the figure below.\n",
    "\n",
    "* Your plot must have all the componenet in the figure below (i.e. titles, lables, legends, text, etc.)\n",
    "* You must use subplot/sublots to make the juxtaposed plots in the given arrangement \n",
    "* it is up to you to choose the appropriate figure size, colors, and other properties."
   ]
  },
  {
   "cell_type": "markdown",
   "metadata": {},
   "source": [
    "<img src=\"Task2Fig.jpg\" width=\"750\" height=\"250\">"
   ]
  },
  {
   "cell_type": "markdown",
   "metadata": {},
   "source": [
    "### <font color=Green> Task 2 Answer: </font>"
   ]
  },
  {
   "cell_type": "code",
   "execution_count": 290,
   "metadata": {},
   "outputs": [
    {
     "data": {
      "image/png": "[encoded data removed]",
      "text/plain": [
       "<Figure size 720x432 with 4 Axes>"
      ]
     },
     "metadata": {},
     "output_type": "display_data"
    }
   ],
   "source": [
    "\n",
    "\n",
    "regions, axes = plt.subplots(2,2, figsize=(10, 6))\n",
    "\n",
    "for i, (idx, row) in enumerate(SalesData.set_index('Region').iterrows()):\n",
    "    ax = axes[i // 2, i % 2]\n",
    "    row = row[row.gt(row.sum() * .01)]\n",
    "    ax.pie(row,autopct='%1.1f%%', startangle=0)\n",
    "    ax.set_title(idx)\n",
    "regions.suptitle(\"Percentage of category sales in each region\")\n",
    "regions.subplots_adjust(wspace=.2)\n",
    "regions.legend(labels  = ['Tea', 'Expresso', 'Coffee','Herbal Tea'],title=\"Categories\",loc=\"center\")\n",
    "\n",
    "plt.show()\n",
    "\n",
    "\n",
    "            \n"
   ]
  },
  {
   "cell_type": "code",
   "execution_count": null,
   "metadata": {},
   "outputs": [],
   "source": []
  },
  {
   "cell_type": "markdown",
   "metadata": {},
   "source": [
    "----------"
   ]
  },
  {
   "cell_type": "markdown",
   "metadata": {},
   "source": [
    "### <font color = darkred>Task 3-[35 points]</font>  :<font color=blue> Make bar plots of the variables of the dataset using multiple Juxtaposed displays:</font> \n",
    "Using the dataframe  `SalesData`  write Python code to show the total sales of each category in each region as shown in the figure below.\n",
    "\n",
    "* Your plot must have all the componenet in the figure below (i.e. titles, lables, text, etc.)\n",
    "* You must use subplot/sublots to make the juxtaposed plots in the given arrangement, and make them share the y axis lables on the left subblot \n",
    "* it is up to you to choose the appropriate figure size, colors, and other properties."
   ]
  },
  {
   "cell_type": "markdown",
   "metadata": {},
   "source": [
    "<img src=\"Task3Fig.jpg\" width=\"780\" height=\"300\">"
   ]
  },
  {
   "cell_type": "markdown",
   "metadata": {},
   "source": [
    "## <font color=Green> Task 3 Answer: </font>"
   ]
  },
  {
   "cell_type": "code",
   "execution_count": 404,
   "metadata": {},
   "outputs": [
    {
     "data": {
      "image/png": "[encoded data removed]",
      "text/plain": [
       "<Figure size 1080x288 with 4 Axes>"
      ]
     },
     "metadata": {
      "needs_background": "light"
     },
     "output_type": "display_data"
    }
   ],
   "source": [
    "\n",
    "# Defines values for the first plot\n",
    "x1 = SalesData['Region']\n",
    "y1 = SalesData['Tea']\n",
    "\n",
    "# Defines values for the second plot\n",
    "x2 = SalesData['Region']\n",
    "y2 = SalesData['Espresso']\n",
    "\n",
    "# Defines values for the third plot\n",
    "x3 = SalesData['Region']\n",
    "y3 = SalesData['Coffee']\n",
    "\n",
    "# Defines values for the fourth plot\n",
    "x4 = SalesData['Region']\n",
    "y4 = SalesData['Herbal Tea']\n",
    "\n",
    "plt.figure(figsize=(15,4))\n",
    "#plt.subplots_adjust(wspace = 0.5, hspace=0.3)\n",
    "\n",
    "plt.subplot(1, 4, 1)\n",
    "plt.bar(x1,y1, color=['red','orange','green'])\n",
    "plt.title('Tea')\n",
    "\n",
    "#plt.subplots_adjust(wspace = 0.5, hspace=0.3)\n",
    "plt.subplot(1, 4, 2)\n",
    "plt.bar(x2,y2, color = ['red','orange','green','blue'])\n",
    "plt.yticks([])\n",
    "plt.title('Espresso')\n",
    "\n",
    "#plt.subplots_adjust(wspace = 0.5, hspace=0.3)\n",
    "plt.subplot(1, 4, 3)\n",
    "plt.bar(x3,y3, color=['red','orange','green','blue'])\n",
    "plt.yticks([])\n",
    "plt.title('Coffee')\n",
    "\n",
    "#plt.subplots_adjust(wspace = 0.5, hspace=0.3)\n",
    "plt.subplot(1, 4, 4)\n",
    "plt.bar(x4,y4, color = ['red','orange','green','blue'])\n",
    "plt.yticks([])\n",
    "plt.title('Herbal Tea')\n",
    "\n",
    "plt.show()\n",
    "\n",
    "\n",
    "\n",
    "\n"
   ]
  },
  {
   "cell_type": "code",
   "execution_count": null,
   "metadata": {},
   "outputs": [],
   "source": []
  }
 ],
 "metadata": {
  "kernelspec": {
   "display_name": "Python 3",
   "language": "python",
   "name": "python3"
  },
  "language_info": {
   "codemirror_mode": {
    "name": "ipython",
    "version": 3
   },
   "file_extension": ".py",
   "mimetype": "text/x-python",
   "name": "python",
   "nbconvert_exporter": "python",
   "pygments_lexer": "ipython3",
   "version": "3.8.6"
  }
 },
 "nbformat": 4,
 "nbformat_minor": 2
}
