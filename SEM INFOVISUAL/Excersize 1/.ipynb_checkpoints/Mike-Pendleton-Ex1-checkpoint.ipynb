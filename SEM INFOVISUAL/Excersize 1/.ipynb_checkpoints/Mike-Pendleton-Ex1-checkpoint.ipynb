{
 "cells": [
  {
   "cell_type": "markdown",
   "metadata": {},
   "source": [
    "## <font color=red>  Exercise \\#1: Python review </font>\n",
    "\n",
    "## Total Points  : 50  \n",
    "### <font color=Blue> Due: Tuesday 02/02/2021 11:59 PM </font>\n",
    "#### Objective : Assess your ability to use Numpy  Python to  Create, index, and manipulate Arrays and Lists \n",
    "\n",
    "##### Skills needed:  In this homework assignment, you'll be using the concepts you've learned to\n",
    "1. Edit and run  Jupyter notebooks\n",
    "2. Write Python code using Numpy to :\n",
    "    * import the numpy package\n",
    "    * Create arrays\n",
    "    * Slice arrays \n",
    "    * Create boolean masks using some condition to index array elements"
   ]
  },
  {
   "cell_type": "markdown",
   "metadata": {},
   "source": [
    "------\n",
    "### <font color=darkorange> Mike Pendleton: </font>"
   ]
  },
  {
   "cell_type": "markdown",
   "metadata": {},
   "source": []
  },
  {
   "cell_type": "markdown",
   "metadata": {},
   "source": [
    "-----"
   ]
  },
  {
   "cell_type": "markdown",
   "metadata": {},
   "source": [
    "## Requirements & Submission:\n",
    "1. Use this notebook as a template for your answers. Then rename it as ` your first name`-`Last name-Ex1.ipynb`. \n",
    "2. Submit on WTClass (“Resources >> Tests, exercises and Quizzes >> Exercise#1 \n",
    "3. Each task's answer must be given in the cells after the task description\n",
    "4. Answers and explanations must be properly formatted in the appropriate Cell type\n",
    "5. You can add as many cells as you needed\n",
    "6. You should submit final ***clean version*** of your notebook, i.e. remove any experimenting cells"
   ]
  },
  {
   "cell_type": "markdown",
   "metadata": {},
   "source": [
    "## Task  <font color=darkred>:  [50 points]</font>\n",
    "#### Write python code to:\n",
    "1. Create 2D-array (identified by variable name `X`) with dimensions of 8x6 using randomly generated numbers in the range (-10,10). <font color=red>[7 points]</font>\n",
    "2. Using the created array `X` above, create the four array slices shown in the figure below and marked by the four different __colors__  (Red,Green,Orange,Blue), i.e. each color is a separate slice. <font color=red> [7 points for each correct slice] </font>\n",
    "<img src=\"Ex1-Slices.png\" width=\"150\">\n",
    "    \n",
    "3. Create a boolean mask to identify the locations of all negative numbers in the array `X` above <font color=red>[10 points for crorrect mask]</font>, and then use the mask (or the locations) to display those negative numbers <font color=red>[5 points for correct use]</font>. \n"
   ]
  },
  {
   "cell_type": "markdown",
   "metadata": {},
   "source": [
    "### <font color=Green> Answers: </font>"
   ]
  },
  {
   "cell_type": "markdown",
   "metadata": {},
   "source": [
    "- <font color=red> Note: </font> a sample output is given below, your output numbers could be different due to the random generation of the array. "
   ]
  },
  {
   "cell_type": "code",
   "execution_count": 7,
   "metadata": {},
   "outputs": [],
   "source": [
    "import numpy as np"
   ]
  },
  {
   "cell_type": "markdown",
   "metadata": {},
   "source": [
    "1 - array creation"
   ]
  },
  {
   "cell_type": "code",
   "execution_count": 6,
   "metadata": {},
   "outputs": [
    {
     "data": {
      "text/plain": [
       "array([[ -4,   9,   4,   0,  -3,  -4],\n",
       "       [  8,   0,   0,  -7,  -3,  -8],\n",
       "       [ -9,   1,  -5,  -9, -10,   1],\n",
       "       [  1,   6,  -1,   5,   4,   4],\n",
       "       [  8,   1,   9,  -8,  -6,   8],\n",
       "       [ -4,  -2,  -4,   7,  -7,   3],\n",
       "       [  7,  -2,  -9,   9,   4,  -4],\n",
       "       [  1,  -3,   4,  -8,   3,   6]])"
      ]
     },
     "execution_count": 6,
     "metadata": {},
     "output_type": "execute_result"
    }
   ],
   "source": [
    "#rand = np.random.RandomState(42)\n",
    "#x = rand.randint(-10, 10, (8, 6))  \n",
    "\n",
    "#x\n",
    "\n",
    "rand = np.random.RandomState(42)\n",
    "x = rand.randint(-10, 10, (8, 6)) \n",
    "x"
   ]
  },
  {
   "cell_type": "code",
   "execution_count": 4,
   "metadata": {},
   "outputs": [
    {
     "name": "stdout",
     "output_type": "stream",
     "text": [
      "[[ -8  -5  -9  -6   5   1]\n",
      " [  3  -6  -2   3   0   6]\n",
      " [ -7  -3   7   0  -8  -4]\n",
      " [ -5 -10 -10 -10   9   6]\n",
      " [  4  -5  -8   3   1   5]\n",
      " [ -4   2   1   0   3   1]\n",
      " [  1   2  -1  -9   1  -9]\n",
      " [ -7   4  -7   7  -9   0]]\n"
     ]
    }
   ],
   "source": [
    "#Sample output of randomly generated 8x6 array"
   ]
  },
  {
   "cell_type": "markdown",
   "metadata": {},
   "source": [
    "2- Slices\n"
   ]
  },
  {
   "cell_type": "markdown",
   "metadata": {},
   "source": [
    "- 2.1 - The Orange slice"
   ]
  },
  {
   "cell_type": "code",
   "execution_count": 8,
   "metadata": {},
   "outputs": [
    {
     "data": {
      "text/plain": [
       "array([-9,  6,  9,  7,  4,  6])"
      ]
     },
     "execution_count": 8,
     "metadata": {},
     "output_type": "execute_result"
    }
   ],
   "source": [
    "x[(2,3,4,5,6,7),(0,1,2,3,4,5)]"
   ]
  },
  {
   "cell_type": "code",
   "execution_count": 5,
   "metadata": {},
   "outputs": [
    {
     "data": {
      "text/plain": [
       "array([ -7, -10,  -8,   0,   1,   0])"
      ]
     },
     "execution_count": 5,
     "metadata": {},
     "output_type": "execute_result"
    }
   ],
   "source": [
    "# Sample output of the Orange slice from the array X above"
   ]
  },
  {
   "cell_type": "markdown",
   "metadata": {},
   "source": [
    "- 2.2 - The Green slice"
   ]
  },
  {
   "cell_type": "code",
   "execution_count": 504,
   "metadata": {},
   "outputs": [
    {
     "data": {
      "text/plain": [
       "array([ 1,  4, -8, -4, -2,  1])"
      ]
     },
     "execution_count": 504,
     "metadata": {},
     "output_type": "execute_result"
    }
   ],
   "source": [
    "x[(2,3,4,5,6,7),(5,4,3,2,1,0)]"
   ]
  },
  {
   "cell_type": "code",
   "execution_count": 6,
   "metadata": {},
   "outputs": [
    {
     "data": {
      "text/plain": [
       "array([-4,  9,  3,  1,  2, -7])"
      ]
     },
     "execution_count": 6,
     "metadata": {},
     "output_type": "execute_result"
    }
   ],
   "source": [
    "# Sample output of the Green slice from the array X above"
   ]
  },
  {
   "cell_type": "markdown",
   "metadata": {},
   "source": [
    "- 2.3 - The Blue slice"
   ]
  },
  {
   "cell_type": "code",
   "execution_count": 646,
   "metadata": {},
   "outputs": [
    {
     "data": {
      "text/plain": [
       "array([[ 0, -7],\n",
       "       [-5, -9]])"
      ]
     },
     "execution_count": 646,
     "metadata": {},
     "output_type": "execute_result"
    }
   ],
   "source": [
    "x[1:3,[2,3]]"
   ]
  },
  {
   "cell_type": "code",
   "execution_count": 7,
   "metadata": {},
   "outputs": [
    {
     "data": {
      "text/plain": [
       "array([[-2,  3],\n",
       "       [ 7,  0]])"
      ]
     },
     "execution_count": 7,
     "metadata": {},
     "output_type": "execute_result"
    }
   ],
   "source": [
    "# Sample output of the Blue slice from the array X above"
   ]
  },
  {
   "cell_type": "markdown",
   "metadata": {},
   "source": [
    "- 2.4 - The Red slice"
   ]
  },
  {
   "cell_type": "code",
   "execution_count": 9,
   "metadata": {},
   "outputs": [
    {
     "data": {
      "text/plain": [
       "array([[ 9,  0, -4]])"
      ]
     },
     "execution_count": 9,
     "metadata": {},
     "output_type": "execute_result"
    }
   ],
   "source": [
    "x[0:1,[1,3,5]]"
   ]
  },
  {
   "cell_type": "code",
   "execution_count": 8,
   "metadata": {},
   "outputs": [
    {
     "data": {
      "text/plain": [
       "array([-5, -6,  1])"
      ]
     },
     "execution_count": 8,
     "metadata": {},
     "output_type": "execute_result"
    }
   ],
   "source": [
    "# Sample output of the Red slice from the array X above"
   ]
  },
  {
   "cell_type": "markdown",
   "metadata": {},
   "source": [
    "3- Boolean mask to identify the locations of all negative numbers in the array"
   ]
  },
  {
   "cell_type": "markdown",
   "metadata": {},
   "source": [
    "- 3.1 The mask"
   ]
  },
  {
   "cell_type": "code",
   "execution_count": 506,
   "metadata": {},
   "outputs": [
    {
     "data": {
      "text/plain": [
       "array([[ True, False, False, False,  True,  True],\n",
       "       [False, False, False,  True,  True,  True],\n",
       "       [ True, False,  True,  True,  True, False],\n",
       "       [False, False,  True, False, False, False],\n",
       "       [False, False, False,  True,  True, False],\n",
       "       [ True,  True,  True, False,  True, False],\n",
       "       [False,  True,  True, False, False,  True],\n",
       "       [False,  True, False,  True, False, False]])"
      ]
     },
     "execution_count": 506,
     "metadata": {},
     "output_type": "execute_result"
    }
   ],
   "source": [
    "mask = x<0\n",
    "mask"
   ]
  },
  {
   "cell_type": "code",
   "execution_count": 3,
   "metadata": {},
   "outputs": [
    {
     "data": {
      "text/plain": [
       "array([[ True,  True,  True,  True, False, False],\n",
       "       [False,  True,  True, False, False, False],\n",
       "       [ True,  True, False, False,  True,  True],\n",
       "       [ True,  True,  True,  True, False, False],\n",
       "       [False,  True,  True, False, False, False],\n",
       "       [ True, False, False, False, False, False],\n",
       "       [False, False,  True,  True, False,  True],\n",
       "       [ True, False,  True, False,  True, False]])"
      ]
     },
     "execution_count": 3,
     "metadata": {},
     "output_type": "execute_result"
    }
   ],
   "source": [
    "# Sample output: The mask"
   ]
  },
  {
   "cell_type": "code",
   "execution_count": 540,
   "metadata": {},
   "outputs": [
    {
     "data": {
      "text/plain": [
       "(array([0, 0, 0, 1, 1, 1, 2, 2, 2, 2, 3, 4, 4, 5, 5, 5, 5, 6, 6, 6, 7, 7],\n",
       "       dtype=int32),\n",
       " array([0, 4, 5, 3, 4, 5, 0, 2, 3, 4, 2, 3, 4, 0, 1, 2, 4, 1, 2, 5, 1, 3],\n",
       "       dtype=int32))"
      ]
     },
     "execution_count": 540,
     "metadata": {},
     "output_type": "execute_result"
    }
   ],
   "source": [
    "indices = np.where(mask)\n",
    "\n",
    "indices"
   ]
  },
  {
   "cell_type": "code",
   "execution_count": 4,
   "metadata": {},
   "outputs": [
    {
     "data": {
      "text/plain": [
       "(array([0, 0, 0, 0, 1, 1, 2, 2, 2, 2, 3, 3, 3, 3, 4, 4, 5, 6, 6, 6, 7, 7,\n",
       "        7], dtype=int64),\n",
       " array([0, 1, 2, 3, 1, 2, 0, 1, 4, 5, 0, 1, 2, 3, 1, 2, 0, 2, 3, 5, 0, 2,\n",
       "        4], dtype=int64))"
      ]
     },
     "execution_count": 4,
     "metadata": {},
     "output_type": "execute_result"
    }
   ],
   "source": [
    "# or the Mask as indexes of the -ve numbers\n",
    "# The first array for row index and the 2nd array for column index\n",
    "# for instance, [0,0] is the index of the 1st negative number, [7,4] is the index of the last -ve number in the array "
   ]
  },
  {
   "cell_type": "markdown",
   "metadata": {},
   "source": [
    "- 3.2 Use the mask to display the -ve numbers"
   ]
  },
  {
   "cell_type": "code",
   "execution_count": 537,
   "metadata": {},
   "outputs": [
    {
     "data": {
      "text/plain": [
       "array([ -4,  -3,  -4,  -7,  -3,  -8,  -9,  -5,  -9, -10,  -1,  -8,  -6,\n",
       "        -4,  -2,  -4,  -7,  -2,  -9,  -4,  -3,  -8])"
      ]
     },
     "execution_count": 537,
     "metadata": {},
     "output_type": "execute_result"
    }
   ],
   "source": [
    "mask3 = (x <0)\n",
    "extract_from_x = x[mask3]\n",
    "extract_from_x"
   ]
  },
  {
   "cell_type": "code",
   "execution_count": 10,
   "metadata": {},
   "outputs": [
    {
     "data": {
      "text/plain": [
       "array([ -8,  -5,  -9,  -6,  -6,  -2,  -7,  -3,  -8,  -4,  -5, -10, -10,\n",
       "       -10,  -5,  -8,  -4,  -1,  -9,  -9,  -7,  -7,  -9])"
      ]
     },
     "execution_count": 10,
     "metadata": {},
     "output_type": "execute_result"
    }
   ],
   "source": [
    "# Sample output for the -ve numbers in the array displayed using the mask above"
   ]
  },
  {
   "cell_type": "code",
   "execution_count": null,
   "metadata": {},
   "outputs": [],
   "source": []
  }
 ],
 "metadata": {
  "kernelspec": {
   "display_name": "Python 3",
   "language": "python",
   "name": "python3"
  },
  "language_info": {
   "codemirror_mode": {
    "name": "ipython",
    "version": 3
   },
   "file_extension": ".py",
   "mimetype": "text/x-python",
   "name": "python",
   "nbconvert_exporter": "python",
   "pygments_lexer": "ipython3",
   "version": "3.8.6"
  }
 },
 "nbformat": 4,
 "nbformat_minor": 2
}
