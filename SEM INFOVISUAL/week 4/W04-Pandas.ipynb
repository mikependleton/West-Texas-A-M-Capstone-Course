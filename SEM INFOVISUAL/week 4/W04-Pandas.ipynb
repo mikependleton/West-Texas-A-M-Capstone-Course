{
 "cells": [
  {
   "cell_type": "markdown",
   "metadata": {},
   "source": [
    "# <font color=Green> Lecture 4: Downloading and Reading the dataset </font>\n",
    "\n",
    "## Learning Objectives:\n",
    "### Students will be able to :\n",
    "* Download datasets using OS commands\n",
    "* Download datasets using Pandas read_csv function \n",
    "* read datasets using Pandas read_csv function into  Pandas Dataframe\n",
    "* Fix file format problems with Pandas read_csv function\n",
    "* Replace missing values symbols in the Pandas Dataframe with null (Nan) values\n",
    "* save dataset in a csv file\n"
   ]
  },
  {
   "cell_type": "markdown",
   "metadata": {},
   "source": [
    "-------------------------"
   ]
  },
  {
   "cell_type": "markdown",
   "metadata": {},
   "source": [
    "**First we need to import the Pandas package**"
   ]
  },
  {
   "cell_type": "code",
   "execution_count": 1,
   "metadata": {},
   "outputs": [],
   "source": [
    "import pandas as pd\n",
    "import numpy as np"
   ]
  },
  {
   "cell_type": "markdown",
   "metadata": {},
   "source": [
    "## What is Pandas Dataframe?\n",
    "Dataframes are used to load datasets from files in order to process them. Here we will use dataframes to read the data, clean the data, process the data, and query and select subsets from the data to plot it.\n",
    "\n",
    "Pandas dataframe is a primary container of data. \n",
    "it could be indexed using rows and columns. Each row/column  can be indexed by its **label** or its **integer order index** (0 for the 1st row/column, n-1 for the last row/column). \n",
    "\n"
   ]
  },
  {
   "cell_type": "markdown",
   "metadata": {},
   "source": [
    "<img src=\"DataFrameComponents.png\" width=\"650\" >"
   ]
  },
  {
   "cell_type": "markdown",
   "metadata": {
    "collapsed": true
   },
   "source": [
    "## Why Pandas Dataframe?\n",
    " * Efficiently handle Large datasets\n",
    " * Has tons of ready and easy to use data manipulation functions\n",
    " * You can write a script that can be used with different datasets (write it once, use it more)\n",
    " "
   ]
  },
  {
   "cell_type": "markdown",
   "metadata": {},
   "source": [
    "## <font color=blue> 1- Download the dataset file using OS  command (e.g. ``curl``, ``wget``)</font>"
   ]
  },
  {
   "cell_type": "markdown",
   "metadata": {},
   "source": [
    "* Sometimes you want to download the dataset file to a local directory. Using the magic sysmbol `!` you can run can run os commands in the notebook by preceeding the command with `!` symbol. Since windows and Linux based operating systems have command to download files we can use them here."
   ]
  },
  {
   "cell_type": "markdown",
   "metadata": {},
   "source": [
    "Note: You can get more information about StoneFlakes dataset (like, the column names and the meaning of the ID values) from the dataset's web site at (https://archive.ics.uci.edu/ml/datasets/StoneFlakes#)  \n"
   ]
  },
  {
   "cell_type": "code",
   "execution_count": 2,
   "metadata": {
    "scrolled": true
   },
   "outputs": [
    {
     "name": "stderr",
     "output_type": "stream",
     "text": [
      "  % Total    % Received % Xferd  Average Speed   Time    Time     Time  Current\n",
      "                                 Dload  Upload   Total   Spent    Left  Speed\n",
      "\n",
      "  0     0    0     0    0     0      0      0 --:--:-- --:--:-- --:--:--     0\n",
      "100  3523  100  3523    0     0  28184      0 --:--:-- --:--:-- --:--:-- 28184\n"
     ]
    }
   ],
   "source": [
    "!curl http://archive.ics.uci.edu/ml/machine-learning-databases/00299/StoneFlakes.dat -o StoneFlakes.dat\n",
    "# Linux !wget http://archive.ics.uci.edu/ml/machine-learning-databases/00299/StoneFlakes.dat"
   ]
  },
  {
   "cell_type": "markdown",
   "metadata": {},
   "source": [
    "Let's look at the first few lines. \n",
    "Using Linux command head or "
   ]
  },
  {
   "cell_type": "code",
   "execution_count": 3,
   "metadata": {},
   "outputs": [
    {
     "name": "stdout",
     "output_type": "stream",
     "text": [
      " Volume in drive C has no label.\n",
      " Volume Serial Number is B2B3-5C73\n",
      "\n",
      " Directory of C:\\SP2021\\Visualization\\Lectures\\W04\n",
      "\n",
      "01/29/2021  11:50 AM    <DIR>          .\n",
      "01/29/2021  11:50 AM    <DIR>          ..\n",
      "01/29/2021  11:44 AM    <DIR>          .ipynb_checkpoints\n",
      "01/28/2021  10:14 PM            31,709 DataFrameComponents.png\n",
      "01/28/2021  09:09 PM           447,184 L04-part1.pptx\n",
      "01/29/2021  11:48 AM             3,523 StoneFlakes.dat\n",
      "01/29/2021  11:50 AM            71,406 W04-Pandas.ipynb\n",
      "01/28/2021  09:07 PM           383,978 W04-part1.pdf\n",
      "               5 File(s)        937,800 bytes\n",
      "               3 Dir(s)  28,971,831,296 bytes free\n"
     ]
    }
   ],
   "source": [
    "!dir"
   ]
  },
  {
   "cell_type": "code",
   "execution_count": 4,
   "metadata": {
    "scrolled": true
   },
   "outputs": [
    {
     "name": "stdout",
     "output_type": "stream",
     "text": [
      "ID    LBI   RTI  WDI FLA  PSF  FSF ZDF1 PROZD\n",
      "ar      ?,35.30,2.60,  ?,42.4,24.2,47.1,69\n",
      "arn  1.23,27.00,3.59,122, 0.0,40.0,40.0,30\n",
      "be   1.24,26.50,2.90,121,16.0,20.7,29.7,72\n",
      "bi1  1.07,29.10,3.10,114,44.0, 2.6,26.3,68\n",
      "bi2  1.08,43.70,2.40,105,32.6, 5.8,10.7,42\n",
      "bie  1.39,29.50,2.78,126,14.0, 0.0,50.0,78\n",
      "bn   1.31,26.30,2.10,119,15.7,15.7,30.4,72\n",
      "bo   1.27,27.60,3.50,116,16.8,23.0,35.2,69\n",
      "by   1.11,32.60,2.90,113,15.8,15.8,15.0,57\n",
      "c    1.32,29.50,2.57,121,22.0, 2.0,18.0,63\n",
      "cl   1.16,33.40,2.30,131, 7.5,14.9, 6.0,60\n",
      "d    1.23,27.60,2.83,121,27.9, 6.7,31.7,67\n",
      "e1   1.24,25.50,3.60,113, 5.3,21.1,60.0,86\n",
      "e2   1.20,27.70,3.40,108,37.4, 9.9,39.9,71\n",
      "ey   1.33,29.40,2.30,120,13.5, 6.9,38.3,72\n",
      "fli  1.11,35.10,3.51,123,67.2, 2.5, 5.9,46\n",
      "g10  1.14,29.90,2.90,116, 5.3,55.3,63.2,84\n",
      "g11  1.16,27.90,3.00,116, 3.5,23.7,64.8,85\n",
      "g2   1.22,29.50,3.00,116, 6.0,39.7,50.2,78\n",
      "g4   1.23,29.00,2.90,116, 8.0,24.0,60.0,87\n",
      "g5   1.25,30.20,2.80,118, 7.5,37.7,43.9,78\n",
      "g6   1.19,31.60,2.40,115, 0.0,33.3,58.7,82\n",
      "ga1  1.11,21.80,3.60,112, 2.5,22.7,92.3,98\n",
      "ga2  1.22,34.20,2.60,  ?,46.3, 0.0,63.6,82\n",
      "goe  1.07,19.80,4.15,117, 0.0,28.5,61.9,92\n",
      "gra  1.31,19.50,3.83,114,14.0,14.0,57.0,86\n",
      "gro  1.24,36.00,3.36,125,45.5, 9.0,18.2,55\n",
      "gue  1.17,31.50,2.52,125,18.9,15.8,21.1,58\n",
      "hey  1.11,28.30,2.50,124,10.7,25.0,25.0,74\n",
      "hu   1.41,23.80,3.20,118,25.5,15.5,26.8,72\n",
      "hx   1.26,23.60,3.20,118,16.3, 6.7,28.9,69\n",
      "ka   1.24,19.40,3.70,111, 5.6,21.5,72.2,91\n",
      "kb   1.21,24.10,3.80,116, 1.2,32.5,83.3,94\n",
      "kc   1.21,23.30,3.90,110, 1.6,35.5,94.1,95\n",
      "l    1.28,19.50,3.44,110, 0.0,15.0,   ?,98\n",
      "li   1.17,16.50,3.97,111, 1.2,50.0,75.6,90\n",
      "lue  1.31,26.50,2.28,126, 2.1,18.6,34.0,77\n",
      "m    1.20,27.20,3.00,121,   ?,   ?,25.1,61\n",
      "mar  1.02,33.40,2.46,123,37.5,18.8,18.8,66\n",
      "ml   1.04,29.40,3.10,120,28.6,12.7,15.9,62\n",
      "mr   1.15,30.20,2.70,124,16.3,20.2,26.2,63\n",
      "ms   1.08,33.60,3.60,128,35.7, 0.0,14.3,36\n",
      "n    1.16,29.30,3.12,117,15.0,19.6,19.6,65\n",
      "nie  1.20,29.80,2.60,122,12.7,20.1,23.6,64\n",
      "pb   1.18,24.30,4.90,108,20.6, 6.9,61.8,84\n",
      "r    1.12,27.70,4.10,117, 6.9,22.5,63.7,85\n",
      "r1   1.30,23.30,3.40,112, 3.8,25.4,68.9,87\n",
      "r3   1.12,23.10,3.70,115, 5.8,13.9,80.6,92\n",
      "reh  1.29,29.40,1.99,121,22.2,11.1,30.6,77\n",
      "roe  1.26,27.50,2.41,121,31.7,20.2,24.0,62\n",
      "s1   1.03,23.30,3.50,115, 2.1,17.2,78.0,92\n",
      "s2   1.15,22.90,3.80,112, 3.8,26.2,76.3,91\n",
      "s4   1.14,22.40,3.70,115, 0.8,27.1,77.8,91\n",
      "s5   1.18,26.90,2.80,112, 2.4,22.0,78.0,92\n",
      "sa1  1.44,22.88,3.13,116, 7.7,29.2,59.3,88\n",
      "sa2  1.47,23.43,3.08,118,10.1,27.8,53.3,86\n",
      "sa3  1.45,22.58,3.24,117, 5.2,26.7,56.5,87\n",
      "san  1.06,31.80,3.84,125,59.2, 2.9, 9.7,52\n",
      "sk   1.24,34.00,2.70,  ?,   ?,   ?,66.7,85\n",
      "sm   1.17,27.00,3.20,114, 4.1,21.5,73.9,90\n",
      "so   1.14,23.30,3.30,112, 4.7,17.7,76.2,90\n",
      "sz   1.22,23.00,3.80,113, 5.7,32.2,60.8,83\n",
      "t1   1.38,27.50,3.30,115,14.4,19.2,59.5,84\n",
      "t2   1.34,31.00,3.40,112,23.1,19.2,55.2,72\n",
      "ta   1.22,40.60,2.30, ?, 56.9,13.7,67.8,87\n",
      "tb   1.39,27.20,3.10,107,10.8,27.0,76.2,88\n",
      "v1   1.04,30.20,2.60,116,29.2, 2.5,19.2,67\n",
      "v2   1.17,38.60,2.50,107,41.1, 0.5,16.8,50\n",
      "va   1.69,25.60,1.66,123, 0.0, 0.0,40.0,92\n",
      "w1   1.14,31.80,3.10,118,11.4,12.1,52.1,80\n",
      "w2   1.06,34.30,3.00,116,16.7,12.5,50.0,74\n",
      "wd   1.16,36.00,3.00,127,36.4,10.2, 9.4,53\n",
      "we   1.10,22.00,3.72,107,23.7,10.4,51.8,85\n",
      "wl   1.09,38.10,2.25,119, 8.5, 7.0,23.0,90\n",
      "wn   1.04,30.40,2.70,118,33.3, 5.1,28.2,66\n",
      "woe  1.14,31.90,2.07,121,15.0,10.0, 5.0,47\n",
      "wol  1.24,27.20,3.00,120,29.1,13.8,34.4,70\n",
      "wst  1.15,38.00,2.25,125, 9.5, 6.4,13.0,88\n",
      "z    1.37,26.00,3.22,125,12.6,21.5,28.6,61\n"
     ]
    }
   ],
   "source": [
    "#Linux, mac\n",
    "#!head StoneFlakes.dat\n",
    "#Windows\n",
    "!more StoneFlakes.dat "
   ]
  },
  {
   "cell_type": "markdown",
   "metadata": {},
   "source": [
    "# <font color=blue> 2- Reading data from a csv file </font>"
   ]
  },
  {
   "cell_type": "markdown",
   "metadata": {},
   "source": [
    "* You can read data from a CSV file using the **`read_csv` ** function. By default, it assumes that the fields are comma-separated.\n",
    "* it is important to know how the data is stored in the file. Here are some important things to look for:\n",
    "    * Does the data has a header or not\n",
    "    * How many columns are in the data, and what is the data type of each column\n",
    "    * How the columns are formatted and separated, and whether it is fixed-width column formatting (each column  has predefined space)\n",
    "    * what separator (delimiter) is used to separate the values in each row (eg. is it single space, multiple spaces, Tab, comma, ...) \n",
    "    * When there are missing values in some entries, what is the symbol used to represent that (NA, N/A, None, space,?, --, ... etc.)\n"
   ]
  },
  {
   "cell_type": "markdown",
   "metadata": {},
   "source": [
    "* For our 1s data processing task with pandas, we will use **Stone Flakes** data set. This data set is located at the **UCI repository**\n",
    "\n",
    "* The UCI Machine Learning Repository is a \"go-to\" place for fascinating data sets often used in machine learning education and research.\n",
    "\n",
    "Let's check out the **Stone Flakes** data set.\n",
    "\n",
    "* To download the StoneFlakes.dat file, we can use any of the following:\n",
    "    * manually go to the UCI repository and download it\n",
    "    * use OS commands from within the notebook (`!wget` for Linux, and mac. `!curl` for windows)\n",
    "    * use pandas **`read_csv` **  with a **url** to the dataset\n"
   ]
  },
  {
   "cell_type": "markdown",
   "metadata": {},
   "source": [
    "### <font color=green> 2.1- Read the dataset form local file</font>"
   ]
  },
  {
   "cell_type": "code",
   "execution_count": 5,
   "metadata": {},
   "outputs": [],
   "source": [
    "notclean = pd.read_csv('StoneFlakes.dat')"
   ]
  },
  {
   "cell_type": "code",
   "execution_count": 6,
   "metadata": {},
   "outputs": [
    {
     "data": {
      "text/plain": [
       "(79, 1)"
      ]
     },
     "execution_count": 6,
     "metadata": {},
     "output_type": "execute_result"
    }
   ],
   "source": [
    "notclean.shape"
   ]
  },
  {
   "cell_type": "code",
   "execution_count": 8,
   "metadata": {},
   "outputs": [
    {
     "data": {
      "text/html": [
       "<div>\n",
       "<style scoped>\n",
       "    .dataframe tbody tr th:only-of-type {\n",
       "        vertical-align: middle;\n",
       "    }\n",
       "\n",
       "    .dataframe tbody tr th {\n",
       "        vertical-align: top;\n",
       "    }\n",
       "\n",
       "    .dataframe thead th {\n",
       "        text-align: right;\n",
       "    }\n",
       "</style>\n",
       "<table border=\"1\" class=\"dataframe\">\n",
       "  <thead>\n",
       "    <tr style=\"text-align: right;\">\n",
       "      <th></th>\n",
       "      <th></th>\n",
       "      <th></th>\n",
       "      <th></th>\n",
       "      <th></th>\n",
       "      <th></th>\n",
       "      <th></th>\n",
       "      <th>ID    LBI   RTI  WDI FLA  PSF  FSF ZDF1 PROZD</th>\n",
       "    </tr>\n",
       "  </thead>\n",
       "  <tbody>\n",
       "    <tr>\n",
       "      <th>ar      ?</th>\n",
       "      <th>35.3</th>\n",
       "      <th>2.60</th>\n",
       "      <th>?</th>\n",
       "      <th>42.4</th>\n",
       "      <th>24.2</th>\n",
       "      <th>47.1</th>\n",
       "      <td>69</td>\n",
       "    </tr>\n",
       "    <tr>\n",
       "      <th>arn  1.23</th>\n",
       "      <th>27.0</th>\n",
       "      <th>3.59</th>\n",
       "      <th>122</th>\n",
       "      <th>0.0</th>\n",
       "      <th>40.0</th>\n",
       "      <th>40.0</th>\n",
       "      <td>30</td>\n",
       "    </tr>\n",
       "    <tr>\n",
       "      <th>be   1.24</th>\n",
       "      <th>26.5</th>\n",
       "      <th>2.90</th>\n",
       "      <th>121</th>\n",
       "      <th>16.0</th>\n",
       "      <th>20.7</th>\n",
       "      <th>29.7</th>\n",
       "      <td>72</td>\n",
       "    </tr>\n",
       "    <tr>\n",
       "      <th>bi1  1.07</th>\n",
       "      <th>29.1</th>\n",
       "      <th>3.10</th>\n",
       "      <th>114</th>\n",
       "      <th>44.0</th>\n",
       "      <th>2.6</th>\n",
       "      <th>26.3</th>\n",
       "      <td>68</td>\n",
       "    </tr>\n",
       "    <tr>\n",
       "      <th>bi2  1.08</th>\n",
       "      <th>43.7</th>\n",
       "      <th>2.40</th>\n",
       "      <th>105</th>\n",
       "      <th>32.6</th>\n",
       "      <th>5.8</th>\n",
       "      <th>10.7</th>\n",
       "      <td>42</td>\n",
       "    </tr>\n",
       "    <tr>\n",
       "      <th>bie  1.39</th>\n",
       "      <th>29.5</th>\n",
       "      <th>2.78</th>\n",
       "      <th>126</th>\n",
       "      <th>14.0</th>\n",
       "      <th>0.0</th>\n",
       "      <th>50.0</th>\n",
       "      <td>78</td>\n",
       "    </tr>\n",
       "    <tr>\n",
       "      <th>bn   1.31</th>\n",
       "      <th>26.3</th>\n",
       "      <th>2.10</th>\n",
       "      <th>119</th>\n",
       "      <th>15.7</th>\n",
       "      <th>15.7</th>\n",
       "      <th>30.4</th>\n",
       "      <td>72</td>\n",
       "    </tr>\n",
       "    <tr>\n",
       "      <th>bo   1.27</th>\n",
       "      <th>27.6</th>\n",
       "      <th>3.50</th>\n",
       "      <th>116</th>\n",
       "      <th>16.8</th>\n",
       "      <th>23.0</th>\n",
       "      <th>35.2</th>\n",
       "      <td>69</td>\n",
       "    </tr>\n",
       "    <tr>\n",
       "      <th>by   1.11</th>\n",
       "      <th>32.6</th>\n",
       "      <th>2.90</th>\n",
       "      <th>113</th>\n",
       "      <th>15.8</th>\n",
       "      <th>15.8</th>\n",
       "      <th>15.0</th>\n",
       "      <td>57</td>\n",
       "    </tr>\n",
       "  </tbody>\n",
       "</table>\n",
       "</div>"
      ],
      "text/plain": [
       "                                        ID    LBI   RTI  WDI FLA  PSF  FSF ZDF1 PROZD\n",
       "ar      ? 35.3 2.60   ? 42.4 24.2 47.1                                             69\n",
       "arn  1.23 27.0 3.59 122  0.0 40.0 40.0                                             30\n",
       "be   1.24 26.5 2.90 121 16.0 20.7 29.7                                             72\n",
       "bi1  1.07 29.1 3.10 114 44.0  2.6 26.3                                             68\n",
       "bi2  1.08 43.7 2.40 105 32.6  5.8 10.7                                             42\n",
       "bie  1.39 29.5 2.78 126 14.0  0.0 50.0                                             78\n",
       "bn   1.31 26.3 2.10 119 15.7 15.7 30.4                                             72\n",
       "bo   1.27 27.6 3.50 116 16.8 23.0 35.2                                             69\n",
       "by   1.11 32.6 2.90 113 15.8 15.8 15.0                                             57"
      ]
     },
     "execution_count": 8,
     "metadata": {},
     "output_type": "execute_result"
    }
   ],
   "source": [
    "notclean[:9]"
   ]
  },
  {
   "cell_type": "markdown",
   "metadata": {},
   "source": [
    "### 2.2 <font color=green> Downloading the dataset using ``read_csv`` and URL </font>\n",
    "\n",
    "Pandas `read_csv` allows you to read remote dataset directly into a dataframe using the dataset URL. That's you don't have to download the dataset to a local file first.\n",
    "\n",
    "Example: In the following cell, we use the URL to the stoneFlakes dataset directly in the `read_csv` function to read the dataset remotely and then returns a pandas dataframe.\n",
    "    * Note that the dataset must be available and exist at the location in the URL."
   ]
  },
  {
   "cell_type": "code",
   "execution_count": 9,
   "metadata": {},
   "outputs": [],
   "source": [
    "url = \"http://archive.ics.uci.edu/ml/machine-learning-databases/00299/StoneFlakes.dat\"\n",
    "notclean = pd.read_csv(url)"
   ]
  },
  {
   "cell_type": "code",
   "execution_count": 10,
   "metadata": {},
   "outputs": [
    {
     "data": {
      "text/plain": [
       "(79, 1)"
      ]
     },
     "execution_count": 10,
     "metadata": {},
     "output_type": "execute_result"
    }
   ],
   "source": [
    "notclean.shape"
   ]
  },
  {
   "cell_type": "code",
   "execution_count": 11,
   "metadata": {},
   "outputs": [
    {
     "data": {
      "text/html": [
       "<div>\n",
       "<style scoped>\n",
       "    .dataframe tbody tr th:only-of-type {\n",
       "        vertical-align: middle;\n",
       "    }\n",
       "\n",
       "    .dataframe tbody tr th {\n",
       "        vertical-align: top;\n",
       "    }\n",
       "\n",
       "    .dataframe thead th {\n",
       "        text-align: right;\n",
       "    }\n",
       "</style>\n",
       "<table border=\"1\" class=\"dataframe\">\n",
       "  <thead>\n",
       "    <tr style=\"text-align: right;\">\n",
       "      <th></th>\n",
       "      <th></th>\n",
       "      <th></th>\n",
       "      <th></th>\n",
       "      <th></th>\n",
       "      <th></th>\n",
       "      <th></th>\n",
       "      <th>ID    LBI   RTI  WDI FLA  PSF  FSF ZDF1 PROZD</th>\n",
       "    </tr>\n",
       "  </thead>\n",
       "  <tbody>\n",
       "    <tr>\n",
       "      <th>ar      ?</th>\n",
       "      <th>35.3</th>\n",
       "      <th>2.60</th>\n",
       "      <th>?</th>\n",
       "      <th>42.4</th>\n",
       "      <th>24.2</th>\n",
       "      <th>47.1</th>\n",
       "      <td>69</td>\n",
       "    </tr>\n",
       "    <tr>\n",
       "      <th>arn  1.23</th>\n",
       "      <th>27.0</th>\n",
       "      <th>3.59</th>\n",
       "      <th>122</th>\n",
       "      <th>0.0</th>\n",
       "      <th>40.0</th>\n",
       "      <th>40.0</th>\n",
       "      <td>30</td>\n",
       "    </tr>\n",
       "    <tr>\n",
       "      <th>be   1.24</th>\n",
       "      <th>26.5</th>\n",
       "      <th>2.90</th>\n",
       "      <th>121</th>\n",
       "      <th>16.0</th>\n",
       "      <th>20.7</th>\n",
       "      <th>29.7</th>\n",
       "      <td>72</td>\n",
       "    </tr>\n",
       "    <tr>\n",
       "      <th>bi1  1.07</th>\n",
       "      <th>29.1</th>\n",
       "      <th>3.10</th>\n",
       "      <th>114</th>\n",
       "      <th>44.0</th>\n",
       "      <th>2.6</th>\n",
       "      <th>26.3</th>\n",
       "      <td>68</td>\n",
       "    </tr>\n",
       "    <tr>\n",
       "      <th>bi2  1.08</th>\n",
       "      <th>43.7</th>\n",
       "      <th>2.40</th>\n",
       "      <th>105</th>\n",
       "      <th>32.6</th>\n",
       "      <th>5.8</th>\n",
       "      <th>10.7</th>\n",
       "      <td>42</td>\n",
       "    </tr>\n",
       "  </tbody>\n",
       "</table>\n",
       "</div>"
      ],
      "text/plain": [
       "                                        ID    LBI   RTI  WDI FLA  PSF  FSF ZDF1 PROZD\n",
       "ar      ? 35.3 2.60   ? 42.4 24.2 47.1                                             69\n",
       "arn  1.23 27.0 3.59 122  0.0 40.0 40.0                                             30\n",
       "be   1.24 26.5 2.90 121 16.0 20.7 29.7                                             72\n",
       "bi1  1.07 29.1 3.10 114 44.0  2.6 26.3                                             68\n",
       "bi2  1.08 43.7 2.40 105 32.6  5.8 10.7                                             42"
      ]
     },
     "execution_count": 11,
     "metadata": {},
     "output_type": "execute_result"
    }
   ],
   "source": [
    "notclean[:5]"
   ]
  },
  {
   "cell_type": "markdown",
   "metadata": {},
   "source": [
    "$\\color{#97365A}{Note~}$ that the columns format of the dataframe above is not correct. We will see later why and how to fix that"
   ]
  },
  {
   "cell_type": "markdown",
   "metadata": {},
   "source": [
    "## <font color=green> 3- Dealing with formating problems </font>\n",
    "Usually datasets stored in files in a specific format, and not all files use tha same format. In our `stoneFlakes` dataset, we saw that `read_csv` couldn't parse the data correctly with out some extra information. So we need to look at the `stoneFlakes.dat` file and see what format is used to store this dataset."
   ]
  },
  {
   "cell_type": "markdown",
   "metadata": {},
   "source": [
    "When looking closely inside the `stoneFlakes.dat` file we see that the column values are separated by commas except for the first column.  Also we noticed that question mark symbol `?` is used wherever data value is missing.\n",
    "\n",
    "How can we read such  file correctly? \n",
    "\n",
    "The [pandas package](http://pandas.pydata.org/) offers powerful options for parsing data.  Let's try the *read_csv* function optional parameters."
   ]
  },
  {
   "cell_type": "markdown",
   "metadata": {},
   "source": [
    "### <font color=#2e86c1> 3.1 - 1st Try: using `read_csv` default parameters (without any extra parameters)"
   ]
  },
  {
   "cell_type": "code",
   "execution_count": 12,
   "metadata": {},
   "outputs": [],
   "source": [
    "notclean = pd.read_csv('StoneFlakes.dat')"
   ]
  },
  {
   "cell_type": "markdown",
   "metadata": {},
   "source": [
    "### is it working? \n",
    "Let's check the columns (how many columns?, columns names?, columns types?)"
   ]
  },
  {
   "cell_type": "markdown",
   "metadata": {},
   "source": [
    "Pandas dataframe has `columns` proerty which we can check (display) and set (change) "
   ]
  },
  {
   "cell_type": "code",
   "execution_count": 13,
   "metadata": {},
   "outputs": [
    {
     "data": {
      "text/plain": [
       "Index(['ID    LBI   RTI  WDI FLA  PSF  FSF ZDF1 PROZD'], dtype='object')"
      ]
     },
     "execution_count": 13,
     "metadata": {},
     "output_type": "execute_result"
    }
   ],
   "source": [
    "notclean.columns"
   ]
  },
  {
   "cell_type": "code",
   "execution_count": 14,
   "metadata": {},
   "outputs": [
    {
     "data": {
      "text/plain": [
       "1"
      ]
     },
     "execution_count": 14,
     "metadata": {},
     "output_type": "execute_result"
    }
   ],
   "source": [
    "len(notclean.columns)"
   ]
  },
  {
   "cell_type": "code",
   "execution_count": 15,
   "metadata": {},
   "outputs": [
    {
     "data": {
      "text/plain": [
       "(79, 1)"
      ]
     },
     "execution_count": 15,
     "metadata": {},
     "output_type": "execute_result"
    }
   ],
   "source": [
    "notclean.shape"
   ]
  },
  {
   "cell_type": "markdown",
   "metadata": {},
   "source": [
    "* to see some data from the begining and the end"
   ]
  },
  {
   "cell_type": "code",
   "execution_count": 16,
   "metadata": {
    "scrolled": true
   },
   "outputs": [
    {
     "data": {
      "text/html": [
       "<div>\n",
       "<style scoped>\n",
       "    .dataframe tbody tr th:only-of-type {\n",
       "        vertical-align: middle;\n",
       "    }\n",
       "\n",
       "    .dataframe tbody tr th {\n",
       "        vertical-align: top;\n",
       "    }\n",
       "\n",
       "    .dataframe thead th {\n",
       "        text-align: right;\n",
       "    }\n",
       "</style>\n",
       "<table border=\"1\" class=\"dataframe\">\n",
       "  <thead>\n",
       "    <tr style=\"text-align: right;\">\n",
       "      <th></th>\n",
       "      <th></th>\n",
       "      <th></th>\n",
       "      <th></th>\n",
       "      <th></th>\n",
       "      <th></th>\n",
       "      <th></th>\n",
       "      <th>ID    LBI   RTI  WDI FLA  PSF  FSF ZDF1 PROZD</th>\n",
       "    </tr>\n",
       "  </thead>\n",
       "  <tbody>\n",
       "    <tr>\n",
       "      <th>ar      ?</th>\n",
       "      <th>35.3</th>\n",
       "      <th>2.60</th>\n",
       "      <th>?</th>\n",
       "      <th>42.4</th>\n",
       "      <th>24.2</th>\n",
       "      <th>47.1</th>\n",
       "      <td>69</td>\n",
       "    </tr>\n",
       "    <tr>\n",
       "      <th>arn  1.23</th>\n",
       "      <th>27.0</th>\n",
       "      <th>3.59</th>\n",
       "      <th>122</th>\n",
       "      <th>0.0</th>\n",
       "      <th>40.0</th>\n",
       "      <th>40.0</th>\n",
       "      <td>30</td>\n",
       "    </tr>\n",
       "    <tr>\n",
       "      <th>be   1.24</th>\n",
       "      <th>26.5</th>\n",
       "      <th>2.90</th>\n",
       "      <th>121</th>\n",
       "      <th>16.0</th>\n",
       "      <th>20.7</th>\n",
       "      <th>29.7</th>\n",
       "      <td>72</td>\n",
       "    </tr>\n",
       "    <tr>\n",
       "      <th>bi1  1.07</th>\n",
       "      <th>29.1</th>\n",
       "      <th>3.10</th>\n",
       "      <th>114</th>\n",
       "      <th>44.0</th>\n",
       "      <th>2.6</th>\n",
       "      <th>26.3</th>\n",
       "      <td>68</td>\n",
       "    </tr>\n",
       "    <tr>\n",
       "      <th>bi2  1.08</th>\n",
       "      <th>43.7</th>\n",
       "      <th>2.40</th>\n",
       "      <th>105</th>\n",
       "      <th>32.6</th>\n",
       "      <th>5.8</th>\n",
       "      <th>10.7</th>\n",
       "      <td>42</td>\n",
       "    </tr>\n",
       "    <tr>\n",
       "      <th>bie  1.39</th>\n",
       "      <th>29.5</th>\n",
       "      <th>2.78</th>\n",
       "      <th>126</th>\n",
       "      <th>14.0</th>\n",
       "      <th>0.0</th>\n",
       "      <th>50.0</th>\n",
       "      <td>78</td>\n",
       "    </tr>\n",
       "    <tr>\n",
       "      <th>bn   1.31</th>\n",
       "      <th>26.3</th>\n",
       "      <th>2.10</th>\n",
       "      <th>119</th>\n",
       "      <th>15.7</th>\n",
       "      <th>15.7</th>\n",
       "      <th>30.4</th>\n",
       "      <td>72</td>\n",
       "    </tr>\n",
       "  </tbody>\n",
       "</table>\n",
       "</div>"
      ],
      "text/plain": [
       "                                        ID    LBI   RTI  WDI FLA  PSF  FSF ZDF1 PROZD\n",
       "ar      ? 35.3 2.60   ? 42.4 24.2 47.1                                             69\n",
       "arn  1.23 27.0 3.59 122  0.0 40.0 40.0                                             30\n",
       "be   1.24 26.5 2.90 121 16.0 20.7 29.7                                             72\n",
       "bi1  1.07 29.1 3.10 114 44.0  2.6 26.3                                             68\n",
       "bi2  1.08 43.7 2.40 105 32.6  5.8 10.7                                             42\n",
       "bie  1.39 29.5 2.78 126 14.0  0.0 50.0                                             78\n",
       "bn   1.31 26.3 2.10 119 15.7 15.7 30.4                                             72"
      ]
     },
     "execution_count": 16,
     "metadata": {},
     "output_type": "execute_result"
    }
   ],
   "source": [
    "notclean.head(n=7)"
   ]
  },
  {
   "cell_type": "code",
   "execution_count": 17,
   "metadata": {},
   "outputs": [
    {
     "data": {
      "text/html": [
       "<div>\n",
       "<style scoped>\n",
       "    .dataframe tbody tr th:only-of-type {\n",
       "        vertical-align: middle;\n",
       "    }\n",
       "\n",
       "    .dataframe tbody tr th {\n",
       "        vertical-align: top;\n",
       "    }\n",
       "\n",
       "    .dataframe thead th {\n",
       "        text-align: right;\n",
       "    }\n",
       "</style>\n",
       "<table border=\"1\" class=\"dataframe\">\n",
       "  <thead>\n",
       "    <tr style=\"text-align: right;\">\n",
       "      <th></th>\n",
       "      <th></th>\n",
       "      <th></th>\n",
       "      <th></th>\n",
       "      <th></th>\n",
       "      <th></th>\n",
       "      <th></th>\n",
       "      <th>ID    LBI   RTI  WDI FLA  PSF  FSF ZDF1 PROZD</th>\n",
       "    </tr>\n",
       "  </thead>\n",
       "  <tbody>\n",
       "    <tr>\n",
       "      <th>wn   1.04</th>\n",
       "      <th>30.4</th>\n",
       "      <th>2.70</th>\n",
       "      <th>118</th>\n",
       "      <th>33.3</th>\n",
       "      <th>5.1</th>\n",
       "      <th>28.2</th>\n",
       "      <td>66</td>\n",
       "    </tr>\n",
       "    <tr>\n",
       "      <th>woe  1.14</th>\n",
       "      <th>31.9</th>\n",
       "      <th>2.07</th>\n",
       "      <th>121</th>\n",
       "      <th>15.0</th>\n",
       "      <th>10.0</th>\n",
       "      <th>5.0</th>\n",
       "      <td>47</td>\n",
       "    </tr>\n",
       "    <tr>\n",
       "      <th>wol  1.24</th>\n",
       "      <th>27.2</th>\n",
       "      <th>3.00</th>\n",
       "      <th>120</th>\n",
       "      <th>29.1</th>\n",
       "      <th>13.8</th>\n",
       "      <th>34.4</th>\n",
       "      <td>70</td>\n",
       "    </tr>\n",
       "    <tr>\n",
       "      <th>wst  1.15</th>\n",
       "      <th>38.0</th>\n",
       "      <th>2.25</th>\n",
       "      <th>125</th>\n",
       "      <th>9.5</th>\n",
       "      <th>6.4</th>\n",
       "      <th>13.0</th>\n",
       "      <td>88</td>\n",
       "    </tr>\n",
       "    <tr>\n",
       "      <th>z    1.37</th>\n",
       "      <th>26.0</th>\n",
       "      <th>3.22</th>\n",
       "      <th>125</th>\n",
       "      <th>12.6</th>\n",
       "      <th>21.5</th>\n",
       "      <th>28.6</th>\n",
       "      <td>61</td>\n",
       "    </tr>\n",
       "  </tbody>\n",
       "</table>\n",
       "</div>"
      ],
      "text/plain": [
       "                                        ID    LBI   RTI  WDI FLA  PSF  FSF ZDF1 PROZD\n",
       "wn   1.04 30.4 2.70 118 33.3  5.1 28.2                                             66\n",
       "woe  1.14 31.9 2.07 121 15.0 10.0  5.0                                             47\n",
       "wol  1.24 27.2 3.00 120 29.1 13.8 34.4                                             70\n",
       "wst  1.15 38.0 2.25 125  9.5  6.4 13.0                                             88\n",
       "z    1.37 26.0 3.22 125 12.6 21.5 28.6                                             61"
      ]
     },
     "execution_count": 17,
     "metadata": {},
     "output_type": "execute_result"
    }
   ],
   "source": [
    "notclean.tail(n=5)"
   ]
  },
  {
   "cell_type": "markdown",
   "metadata": {},
   "source": [
    "### this doesn't look good\n",
    "as we see from the `.shape` command, we read the file as only one column"
   ]
  },
  {
   "cell_type": "markdown",
   "metadata": {},
   "source": [
    "### <font color=#2e86c1> 3.2 - 2nd Try : Using the `Sep` parameter to tell  `read_csv` what to consider as columns delimiter\n"
   ]
  },
  {
   "cell_type": "markdown",
   "metadata": {},
   "source": []
  },
  {
   "cell_type": "code",
   "execution_count": 18,
   "metadata": {},
   "outputs": [],
   "source": [
    "notclean = pd.read_csv('StoneFlakes.dat',sep=',') "
   ]
  },
  {
   "cell_type": "markdown",
   "metadata": {},
   "source": [
    "let's look at the dataframe's shape"
   ]
  },
  {
   "cell_type": "code",
   "execution_count": 19,
   "metadata": {},
   "outputs": [
    {
     "data": {
      "text/plain": [
       "(79, 1)"
      ]
     },
     "execution_count": 19,
     "metadata": {},
     "output_type": "execute_result"
    }
   ],
   "source": [
    "notclean.shape"
   ]
  },
  {
   "cell_type": "markdown",
   "metadata": {},
   "source": [
    "##### We still have the same issue! "
   ]
  },
  {
   "cell_type": "markdown",
   "metadata": {},
   "source": [
    "Actually `sep=','` is optional  because the default value for `sep` is `','`"
   ]
  },
  {
   "cell_type": "markdown",
   "metadata": {},
   "source": [
    "### <font color=#2e86c1> 3.3 - Here is another try: Use multiple separators\n",
    "\n",
    "Since our dataset uses more than one separator (comma and space),  we need to tell `read_csv` to use both \n",
    "\n",
    "One way to do that is to use `regex` (regular exprssions) for the separators. since we have some colums separated by space and some by comma, we will use a regex that represent any combination of commas and spaces as follows:\n",
    "\n",
    " _<font color=Red> sep='\\[,\\\\s\\]+' </font> or <font color=Red> sep='\\[,\\\\s+\\]+' </font>_  means any `comma` or any one or more `spaces`\n"
   ]
  },
  {
   "cell_type": "markdown",
   "metadata": {},
   "source": [
    "* So, for the `read_csv()` function to properly parse the dataset, we need to give it a regular expression to represent all possible separators in this dataset .\n",
    "\n",
    "The regular expression ( `sep = \"[,\\s+]+\" `) is interpreted as follows:\n",
    "\n",
    "The `\"\\s\"` means space, and `“\\s+”` means “One or More spaces”\n",
    "\n",
    "The `“[ ]”` means “a set of”, and here `\"[,\\s+]\"` means a set of comma and space(s)\n",
    "\n",
    "The `“[ ]+”` means one or more of what’s in the set.\n",
    "\n",
    "The regular expression ( `sep = \"[,\\s+]*\" `) will be intrepreted as zero or more commas or spaces, i.e. both comma and spaces are optional, so it will not work with our `stoneFlakes.dat` dataset\n",
    "\n",
    "   * Note the difference between `\"*\"` and `\"+\"`: the `\"*\"` means \"Zero or more\", so whatever precedes the `\"*\"` is optional, while `\"+\"` require at least One of what precedes it."
   ]
  },
  {
   "cell_type": "markdown",
   "metadata": {},
   "source": [
    "So, let's try it with the `sep = \"[,\\s+]+\" `"
   ]
  },
  {
   "cell_type": "code",
   "execution_count": 2,
   "metadata": {
    "scrolled": false
   },
   "outputs": [
    {
     "ename": "NameError",
     "evalue": "name 'pd' is not defined",
     "output_type": "error",
     "traceback": [
      "\u001b[1;31m---------------------------------------------------------------------------\u001b[0m",
      "\u001b[1;31mNameError\u001b[0m                                 Traceback (most recent call last)",
      "\u001b[1;32m<ipython-input-2-12bc0bf3873b>\u001b[0m in \u001b[0;36m<module>\u001b[1;34m\u001b[0m\n\u001b[1;32m----> 1\u001b[1;33m \u001b[0mnotclean\u001b[0m \u001b[1;33m=\u001b[0m \u001b[0mpd\u001b[0m\u001b[1;33m.\u001b[0m\u001b[0mread_csv\u001b[0m\u001b[1;33m(\u001b[0m\u001b[1;34m'StoneFlakes.dat'\u001b[0m\u001b[1;33m,\u001b[0m\u001b[0msep\u001b[0m\u001b[1;33m=\u001b[0m\u001b[1;34m'[,\\s]+'\u001b[0m\u001b[1;33m,\u001b[0m\u001b[0mengine\u001b[0m\u001b[1;33m=\u001b[0m\u001b[1;34m'python'\u001b[0m\u001b[1;33m)\u001b[0m\u001b[1;33m\u001b[0m\u001b[1;33m\u001b[0m\u001b[0m\n\u001b[0m",
      "\u001b[1;31mNameError\u001b[0m: name 'pd' is not defined"
     ]
    }
   ],
   "source": [
    "notclean = pd.read_csv('StoneFlakes.dat',sep='[,\\s]+',engine='python')"
   ]
  },
  {
   "cell_type": "code",
   "execution_count": 23,
   "metadata": {},
   "outputs": [
    {
     "data": {
      "text/plain": [
       "(79, 9)"
      ]
     },
     "execution_count": 23,
     "metadata": {},
     "output_type": "execute_result"
    }
   ],
   "source": [
    "notclean.shape"
   ]
  },
  {
   "cell_type": "markdown",
   "metadata": {},
   "source": [
    "We see that the number of columns is 9 now, which is correct. Let's verify that they are parsed correctly by displaying some rows "
   ]
  },
  {
   "cell_type": "code",
   "execution_count": 24,
   "metadata": {},
   "outputs": [
    {
     "data": {
      "text/html": [
       "<div>\n",
       "<style scoped>\n",
       "    .dataframe tbody tr th:only-of-type {\n",
       "        vertical-align: middle;\n",
       "    }\n",
       "\n",
       "    .dataframe tbody tr th {\n",
       "        vertical-align: top;\n",
       "    }\n",
       "\n",
       "    .dataframe thead th {\n",
       "        text-align: right;\n",
       "    }\n",
       "</style>\n",
       "<table border=\"1\" class=\"dataframe\">\n",
       "  <thead>\n",
       "    <tr style=\"text-align: right;\">\n",
       "      <th></th>\n",
       "      <th>ID</th>\n",
       "      <th>LBI</th>\n",
       "      <th>RTI</th>\n",
       "      <th>WDI</th>\n",
       "      <th>FLA</th>\n",
       "      <th>PSF</th>\n",
       "      <th>FSF</th>\n",
       "      <th>ZDF1</th>\n",
       "      <th>PROZD</th>\n",
       "    </tr>\n",
       "  </thead>\n",
       "  <tbody>\n",
       "    <tr>\n",
       "      <th>0</th>\n",
       "      <td>ar</td>\n",
       "      <td>?</td>\n",
       "      <td>35.3</td>\n",
       "      <td>2.60</td>\n",
       "      <td>?</td>\n",
       "      <td>42.4</td>\n",
       "      <td>24.2</td>\n",
       "      <td>47.1</td>\n",
       "      <td>69</td>\n",
       "    </tr>\n",
       "    <tr>\n",
       "      <th>1</th>\n",
       "      <td>arn</td>\n",
       "      <td>1.23</td>\n",
       "      <td>27.0</td>\n",
       "      <td>3.59</td>\n",
       "      <td>122</td>\n",
       "      <td>0.0</td>\n",
       "      <td>40.0</td>\n",
       "      <td>40.0</td>\n",
       "      <td>30</td>\n",
       "    </tr>\n",
       "    <tr>\n",
       "      <th>2</th>\n",
       "      <td>be</td>\n",
       "      <td>1.24</td>\n",
       "      <td>26.5</td>\n",
       "      <td>2.90</td>\n",
       "      <td>121</td>\n",
       "      <td>16.0</td>\n",
       "      <td>20.7</td>\n",
       "      <td>29.7</td>\n",
       "      <td>72</td>\n",
       "    </tr>\n",
       "    <tr>\n",
       "      <th>3</th>\n",
       "      <td>bi1</td>\n",
       "      <td>1.07</td>\n",
       "      <td>29.1</td>\n",
       "      <td>3.10</td>\n",
       "      <td>114</td>\n",
       "      <td>44.0</td>\n",
       "      <td>2.6</td>\n",
       "      <td>26.3</td>\n",
       "      <td>68</td>\n",
       "    </tr>\n",
       "    <tr>\n",
       "      <th>4</th>\n",
       "      <td>bi2</td>\n",
       "      <td>1.08</td>\n",
       "      <td>43.7</td>\n",
       "      <td>2.40</td>\n",
       "      <td>105</td>\n",
       "      <td>32.6</td>\n",
       "      <td>5.8</td>\n",
       "      <td>10.7</td>\n",
       "      <td>42</td>\n",
       "    </tr>\n",
       "    <tr>\n",
       "      <th>5</th>\n",
       "      <td>bie</td>\n",
       "      <td>1.39</td>\n",
       "      <td>29.5</td>\n",
       "      <td>2.78</td>\n",
       "      <td>126</td>\n",
       "      <td>14.0</td>\n",
       "      <td>0.0</td>\n",
       "      <td>50.0</td>\n",
       "      <td>78</td>\n",
       "    </tr>\n",
       "    <tr>\n",
       "      <th>6</th>\n",
       "      <td>bn</td>\n",
       "      <td>1.31</td>\n",
       "      <td>26.3</td>\n",
       "      <td>2.10</td>\n",
       "      <td>119</td>\n",
       "      <td>15.7</td>\n",
       "      <td>15.7</td>\n",
       "      <td>30.4</td>\n",
       "      <td>72</td>\n",
       "    </tr>\n",
       "    <tr>\n",
       "      <th>7</th>\n",
       "      <td>bo</td>\n",
       "      <td>1.27</td>\n",
       "      <td>27.6</td>\n",
       "      <td>3.50</td>\n",
       "      <td>116</td>\n",
       "      <td>16.8</td>\n",
       "      <td>23.0</td>\n",
       "      <td>35.2</td>\n",
       "      <td>69</td>\n",
       "    </tr>\n",
       "    <tr>\n",
       "      <th>8</th>\n",
       "      <td>by</td>\n",
       "      <td>1.11</td>\n",
       "      <td>32.6</td>\n",
       "      <td>2.90</td>\n",
       "      <td>113</td>\n",
       "      <td>15.8</td>\n",
       "      <td>15.8</td>\n",
       "      <td>15.0</td>\n",
       "      <td>57</td>\n",
       "    </tr>\n",
       "    <tr>\n",
       "      <th>9</th>\n",
       "      <td>c</td>\n",
       "      <td>1.32</td>\n",
       "      <td>29.5</td>\n",
       "      <td>2.57</td>\n",
       "      <td>121</td>\n",
       "      <td>22.0</td>\n",
       "      <td>2.0</td>\n",
       "      <td>18.0</td>\n",
       "      <td>63</td>\n",
       "    </tr>\n",
       "  </tbody>\n",
       "</table>\n",
       "</div>"
      ],
      "text/plain": [
       "    ID   LBI   RTI   WDI  FLA   PSF   FSF  ZDF1  PROZD\n",
       "0   ar     ?  35.3  2.60    ?  42.4  24.2  47.1     69\n",
       "1  arn  1.23  27.0  3.59  122   0.0  40.0  40.0     30\n",
       "2   be  1.24  26.5  2.90  121  16.0  20.7  29.7     72\n",
       "3  bi1  1.07  29.1  3.10  114  44.0   2.6  26.3     68\n",
       "4  bi2  1.08  43.7  2.40  105  32.6   5.8  10.7     42\n",
       "5  bie  1.39  29.5  2.78  126  14.0   0.0  50.0     78\n",
       "6   bn  1.31  26.3  2.10  119  15.7  15.7  30.4     72\n",
       "7   bo  1.27  27.6  3.50  116  16.8  23.0  35.2     69\n",
       "8   by  1.11  32.6  2.90  113  15.8  15.8  15.0     57\n",
       "9    c  1.32  29.5  2.57  121  22.0   2.0  18.0     63"
      ]
     },
     "execution_count": 24,
     "metadata": {},
     "output_type": "execute_result"
    }
   ],
   "source": [
    "notclean[:10]"
   ]
  },
  {
   "cell_type": "code",
   "execution_count": 25,
   "metadata": {},
   "outputs": [
    {
     "data": {
      "text/plain": [
       "Index(['ID', 'LBI', 'RTI', 'WDI', 'FLA', 'PSF', 'FSF', 'ZDF1', 'PROZD'], dtype='object')"
      ]
     },
     "execution_count": 25,
     "metadata": {},
     "output_type": "execute_result"
    }
   ],
   "source": [
    "notclean.columns"
   ]
  },
  {
   "cell_type": "markdown",
   "metadata": {},
   "source": [
    "\n",
    "\n",
    "\n"
   ]
  },
  {
   "cell_type": "markdown",
   "metadata": {},
   "source": [
    "#### Another Issue:"
   ]
  },
  {
   "cell_type": "markdown",
   "metadata": {},
   "source": [
    "__In the output above, we see some rows have `?` symbols, which means missing values__\n",
    "\n",
    "Python operators and commands cannot deal with these symbols as missing values, so we need to replace them with somthing that these commands can understand that these are missing. Numpy uses `np.nan` (__not a number__) to help address this issue. We will see later how to solve this in our dataset\n"
   ]
  },
  {
   "cell_type": "markdown",
   "metadata": {},
   "source": [
    "Here are some examples on how python math operators work with nan values"
   ]
  },
  {
   "cell_type": "code",
   "execution_count": 26,
   "metadata": {},
   "outputs": [
    {
     "data": {
      "text/plain": [
       "nan"
      ]
     },
     "execution_count": 26,
     "metadata": {},
     "output_type": "execute_result"
    }
   ],
   "source": [
    "x=np.nan\n",
    "y=5\n",
    "x+y"
   ]
  },
  {
   "cell_type": "code",
   "execution_count": 27,
   "metadata": {},
   "outputs": [
    {
     "data": {
      "text/plain": [
       "nan"
      ]
     },
     "execution_count": 27,
     "metadata": {},
     "output_type": "execute_result"
    }
   ],
   "source": [
    "sum([3,np.NaN])"
   ]
  },
  {
   "cell_type": "code",
   "execution_count": 29,
   "metadata": {},
   "outputs": [
    {
     "name": "stderr",
     "output_type": "stream",
     "text": [
      "C:\\Program Files (x86)\\Microsoft Visual Studio\\Shared\\Anaconda3_64\\lib\\site-packages\\ipykernel_launcher.py:2: RuntimeWarning: invalid value encountered in greater\n",
      "  \n"
     ]
    },
    {
     "data": {
      "text/plain": [
       "array([ True,  True,  True, False, False, False])"
      ]
     },
     "execution_count": 29,
     "metadata": {},
     "output_type": "execute_result"
    }
   ],
   "source": [
    "x = np.array([1,33,4,np.nan,0,-1])\n",
    "x>0"
   ]
  },
  {
   "cell_type": "code",
   "execution_count": 30,
   "metadata": {},
   "outputs": [
    {
     "data": {
      "text/plain": [
       "array([ 3., 35.,  6., nan,  2.,  1.])"
      ]
     },
     "execution_count": 30,
     "metadata": {},
     "output_type": "execute_result"
    }
   ],
   "source": [
    "x+2"
   ]
  },
  {
   "cell_type": "markdown",
   "metadata": {},
   "source": [
    "### <font color=#2e86c1> 3.4 - Replacing missing values symbols by `NaN`"
   ]
  },
  {
   "cell_type": "markdown",
   "metadata": {},
   "source": [
    "\n",
    "*  We can create a list of possible missing values sympols, and use it as `na_values` parameter of ``read_csv``\n",
    "\n",
    "* Since our missing values here are represented with \"?\" symbol  we can set the `na_values parameter` as `['?']` \n",
    "* If there are more than one symbol for missing values, just include them all in the list, e.g. `['?','NA','--','n/a']`"
   ]
  },
  {
   "cell_type": "markdown",
   "metadata": {},
   "source": [
    "### Let the read_csv handle the missing values"
   ]
  },
  {
   "cell_type": "markdown",
   "metadata": {},
   "source": [
    "To make `read_csv` replace the missing values by `Nan` :"
   ]
  },
  {
   "cell_type": "code",
   "execution_count": 32,
   "metadata": {
    "scrolled": true
   },
   "outputs": [],
   "source": [
    "mvs = ['?','NA','--','n/a']\n",
    "notclean = pd.read_csv('StoneFlakes.dat' , na_values=mvs , sep='[,\\s]+', engine='python')"
   ]
  },
  {
   "cell_type": "markdown",
   "metadata": {},
   "source": [
    "Let's see if that worked"
   ]
  },
  {
   "cell_type": "code",
   "execution_count": 33,
   "metadata": {},
   "outputs": [
    {
     "data": {
      "text/html": [
       "<div>\n",
       "<style scoped>\n",
       "    .dataframe tbody tr th:only-of-type {\n",
       "        vertical-align: middle;\n",
       "    }\n",
       "\n",
       "    .dataframe tbody tr th {\n",
       "        vertical-align: top;\n",
       "    }\n",
       "\n",
       "    .dataframe thead th {\n",
       "        text-align: right;\n",
       "    }\n",
       "</style>\n",
       "<table border=\"1\" class=\"dataframe\">\n",
       "  <thead>\n",
       "    <tr style=\"text-align: right;\">\n",
       "      <th></th>\n",
       "      <th>ID</th>\n",
       "      <th>LBI</th>\n",
       "      <th>RTI</th>\n",
       "      <th>WDI</th>\n",
       "      <th>FLA</th>\n",
       "      <th>PSF</th>\n",
       "      <th>FSF</th>\n",
       "      <th>ZDF1</th>\n",
       "      <th>PROZD</th>\n",
       "    </tr>\n",
       "  </thead>\n",
       "  <tbody>\n",
       "    <tr>\n",
       "      <th>0</th>\n",
       "      <td>ar</td>\n",
       "      <td>NaN</td>\n",
       "      <td>35.3</td>\n",
       "      <td>2.60</td>\n",
       "      <td>NaN</td>\n",
       "      <td>42.4</td>\n",
       "      <td>24.2</td>\n",
       "      <td>47.1</td>\n",
       "      <td>69</td>\n",
       "    </tr>\n",
       "    <tr>\n",
       "      <th>1</th>\n",
       "      <td>arn</td>\n",
       "      <td>1.23</td>\n",
       "      <td>27.0</td>\n",
       "      <td>3.59</td>\n",
       "      <td>122.0</td>\n",
       "      <td>0.0</td>\n",
       "      <td>40.0</td>\n",
       "      <td>40.0</td>\n",
       "      <td>30</td>\n",
       "    </tr>\n",
       "    <tr>\n",
       "      <th>2</th>\n",
       "      <td>be</td>\n",
       "      <td>1.24</td>\n",
       "      <td>26.5</td>\n",
       "      <td>2.90</td>\n",
       "      <td>121.0</td>\n",
       "      <td>16.0</td>\n",
       "      <td>20.7</td>\n",
       "      <td>29.7</td>\n",
       "      <td>72</td>\n",
       "    </tr>\n",
       "    <tr>\n",
       "      <th>3</th>\n",
       "      <td>bi1</td>\n",
       "      <td>1.07</td>\n",
       "      <td>29.1</td>\n",
       "      <td>3.10</td>\n",
       "      <td>114.0</td>\n",
       "      <td>44.0</td>\n",
       "      <td>2.6</td>\n",
       "      <td>26.3</td>\n",
       "      <td>68</td>\n",
       "    </tr>\n",
       "    <tr>\n",
       "      <th>4</th>\n",
       "      <td>bi2</td>\n",
       "      <td>1.08</td>\n",
       "      <td>43.7</td>\n",
       "      <td>2.40</td>\n",
       "      <td>105.0</td>\n",
       "      <td>32.6</td>\n",
       "      <td>5.8</td>\n",
       "      <td>10.7</td>\n",
       "      <td>42</td>\n",
       "    </tr>\n",
       "  </tbody>\n",
       "</table>\n",
       "</div>"
      ],
      "text/plain": [
       "    ID   LBI   RTI   WDI    FLA   PSF   FSF  ZDF1  PROZD\n",
       "0   ar   NaN  35.3  2.60    NaN  42.4  24.2  47.1     69\n",
       "1  arn  1.23  27.0  3.59  122.0   0.0  40.0  40.0     30\n",
       "2   be  1.24  26.5  2.90  121.0  16.0  20.7  29.7     72\n",
       "3  bi1  1.07  29.1  3.10  114.0  44.0   2.6  26.3     68\n",
       "4  bi2  1.08  43.7  2.40  105.0  32.6   5.8  10.7     42"
      ]
     },
     "execution_count": 33,
     "metadata": {},
     "output_type": "execute_result"
    }
   ],
   "source": [
    "notclean[:5]"
   ]
  },
  {
   "cell_type": "code",
   "execution_count": 34,
   "metadata": {},
   "outputs": [
    {
     "data": {
      "text/plain": [
       "(79, 9)"
      ]
     },
     "execution_count": 34,
     "metadata": {},
     "output_type": "execute_result"
    }
   ],
   "source": [
    "notclean.shape"
   ]
  },
  {
   "cell_type": "markdown",
   "metadata": {},
   "source": [
    "\n",
    "   \n",
    "#### We can further process the file while reading to drop records with errors\n",
    "\n",
    "\n",
    "\n",
    "\n",
    "**error_bad_lines=False** : drop rows with errors (e.g. too many commas) instead of reporting errors"
   ]
  },
  {
   "cell_type": "code",
   "execution_count": 35,
   "metadata": {
    "scrolled": true
   },
   "outputs": [
    {
     "data": {
      "text/html": [
       "<div>\n",
       "<style scoped>\n",
       "    .dataframe tbody tr th:only-of-type {\n",
       "        vertical-align: middle;\n",
       "    }\n",
       "\n",
       "    .dataframe tbody tr th {\n",
       "        vertical-align: top;\n",
       "    }\n",
       "\n",
       "    .dataframe thead th {\n",
       "        text-align: right;\n",
       "    }\n",
       "</style>\n",
       "<table border=\"1\" class=\"dataframe\">\n",
       "  <thead>\n",
       "    <tr style=\"text-align: right;\">\n",
       "      <th></th>\n",
       "      <th>ID</th>\n",
       "      <th>LBI</th>\n",
       "      <th>RTI</th>\n",
       "      <th>WDI</th>\n",
       "      <th>FLA</th>\n",
       "      <th>PSF</th>\n",
       "      <th>FSF</th>\n",
       "      <th>ZDF1</th>\n",
       "      <th>PROZD</th>\n",
       "    </tr>\n",
       "  </thead>\n",
       "  <tbody>\n",
       "    <tr>\n",
       "      <th>0</th>\n",
       "      <td>ar</td>\n",
       "      <td>NaN</td>\n",
       "      <td>35.3</td>\n",
       "      <td>2.60</td>\n",
       "      <td>NaN</td>\n",
       "      <td>42.4</td>\n",
       "      <td>24.2</td>\n",
       "      <td>47.1</td>\n",
       "      <td>69</td>\n",
       "    </tr>\n",
       "    <tr>\n",
       "      <th>1</th>\n",
       "      <td>arn</td>\n",
       "      <td>1.23</td>\n",
       "      <td>27.0</td>\n",
       "      <td>3.59</td>\n",
       "      <td>122.0</td>\n",
       "      <td>0.0</td>\n",
       "      <td>40.0</td>\n",
       "      <td>40.0</td>\n",
       "      <td>30</td>\n",
       "    </tr>\n",
       "    <tr>\n",
       "      <th>2</th>\n",
       "      <td>be</td>\n",
       "      <td>1.24</td>\n",
       "      <td>26.5</td>\n",
       "      <td>2.90</td>\n",
       "      <td>121.0</td>\n",
       "      <td>16.0</td>\n",
       "      <td>20.7</td>\n",
       "      <td>29.7</td>\n",
       "      <td>72</td>\n",
       "    </tr>\n",
       "    <tr>\n",
       "      <th>3</th>\n",
       "      <td>bi1</td>\n",
       "      <td>1.07</td>\n",
       "      <td>29.1</td>\n",
       "      <td>3.10</td>\n",
       "      <td>114.0</td>\n",
       "      <td>44.0</td>\n",
       "      <td>2.6</td>\n",
       "      <td>26.3</td>\n",
       "      <td>68</td>\n",
       "    </tr>\n",
       "    <tr>\n",
       "      <th>4</th>\n",
       "      <td>bi2</td>\n",
       "      <td>1.08</td>\n",
       "      <td>43.7</td>\n",
       "      <td>2.40</td>\n",
       "      <td>105.0</td>\n",
       "      <td>32.6</td>\n",
       "      <td>5.8</td>\n",
       "      <td>10.7</td>\n",
       "      <td>42</td>\n",
       "    </tr>\n",
       "  </tbody>\n",
       "</table>\n",
       "</div>"
      ],
      "text/plain": [
       "    ID   LBI   RTI   WDI    FLA   PSF   FSF  ZDF1  PROZD\n",
       "0   ar   NaN  35.3  2.60    NaN  42.4  24.2  47.1     69\n",
       "1  arn  1.23  27.0  3.59  122.0   0.0  40.0  40.0     30\n",
       "2   be  1.24  26.5  2.90  121.0  16.0  20.7  29.7     72\n",
       "3  bi1  1.07  29.1  3.10  114.0  44.0   2.6  26.3     68\n",
       "4  bi2  1.08  43.7  2.40  105.0  32.6   5.8  10.7     42"
      ]
     },
     "execution_count": 35,
     "metadata": {},
     "output_type": "execute_result"
    }
   ],
   "source": [
    "mvs = ['?','NA','--','n/a']\n",
    "notclean = pd.read_csv(open('StoneFlakes.dat'),na_values=mvs,sep='[,\\s]+',engine='python',error_bad_lines=False)\n",
    "notclean[:5]"
   ]
  },
  {
   "cell_type": "code",
   "execution_count": 36,
   "metadata": {},
   "outputs": [
    {
     "data": {
      "text/plain": [
       "(79, 9)"
      ]
     },
     "execution_count": 36,
     "metadata": {},
     "output_type": "execute_result"
    }
   ],
   "source": [
    "notclean.shape"
   ]
  },
  {
   "cell_type": "markdown",
   "metadata": {},
   "source": [
    "### More on Pandas read commands\n",
    "#### You can get more information about other Pandas read from files commands (fixed width text files, Jason,Excel,HTML,...) go to Pandas documentaions at:\n",
    "https://pandas.pydata.org/pandas-docs/stable/api.html#input-output"
   ]
  },
  {
   "cell_type": "markdown",
   "metadata": {},
   "source": [
    "## <font color=green> 4-  The dataframe components"
   ]
  },
  {
   "cell_type": "markdown",
   "metadata": {},
   "source": [
    "We can get the pandas dataframe components using the follwoing attributes, `index`, `columns`, and `values`\n",
    "\n",
    "<img src=\"DataFrameComponents.png\" width=\"550\" >"
   ]
  },
  {
   "cell_type": "code",
   "execution_count": 37,
   "metadata": {},
   "outputs": [],
   "source": [
    "index = notclean.index\n",
    "columns = notclean.columns\n",
    "values = notclean.values"
   ]
  },
  {
   "cell_type": "code",
   "execution_count": 38,
   "metadata": {},
   "outputs": [
    {
     "data": {
      "text/plain": [
       "RangeIndex(start=0, stop=79, step=1)"
      ]
     },
     "execution_count": 38,
     "metadata": {},
     "output_type": "execute_result"
    }
   ],
   "source": [
    "index"
   ]
  },
  {
   "cell_type": "code",
   "execution_count": 39,
   "metadata": {},
   "outputs": [
    {
     "data": {
      "text/plain": [
       "Index(['ID', 'LBI', 'RTI', 'WDI', 'FLA', 'PSF', 'FSF', 'ZDF1', 'PROZD'], dtype='object')"
      ]
     },
     "execution_count": 39,
     "metadata": {},
     "output_type": "execute_result"
    }
   ],
   "source": [
    "columns"
   ]
  },
  {
   "cell_type": "code",
   "execution_count": 40,
   "metadata": {},
   "outputs": [
    {
     "data": {
      "text/plain": [
       "9"
      ]
     },
     "execution_count": 40,
     "metadata": {},
     "output_type": "execute_result"
    }
   ],
   "source": [
    "len(columns)"
   ]
  },
  {
   "cell_type": "code",
   "execution_count": 41,
   "metadata": {
    "scrolled": true
   },
   "outputs": [
    {
     "data": {
      "text/plain": [
       "array([['ar', nan, 35.3, 2.6, nan, 42.4, 24.2, 47.1, 69],\n",
       "       ['arn', 1.23, 27.0, 3.59, 122.0, 0.0, 40.0, 40.0, 30],\n",
       "       ['be', 1.24, 26.5, 2.9, 121.0, 16.0, 20.7, 29.7, 72],\n",
       "       ['bi1', 1.07, 29.1, 3.1, 114.0, 44.0, 2.6, 26.3, 68],\n",
       "       ['bi2', 1.08, 43.7, 2.4, 105.0, 32.6, 5.8, 10.7, 42],\n",
       "       ['bie', 1.39, 29.5, 2.78, 126.0, 14.0, 0.0, 50.0, 78],\n",
       "       ['bn', 1.31, 26.3, 2.1, 119.0, 15.7, 15.7, 30.4, 72],\n",
       "       ['bo', 1.27, 27.6, 3.5, 116.0, 16.8, 23.0, 35.2, 69],\n",
       "       ['by', 1.11, 32.6, 2.9, 113.0, 15.8, 15.8, 15.0, 57],\n",
       "       ['c', 1.32, 29.5, 2.57, 121.0, 22.0, 2.0, 18.0, 63],\n",
       "       ['cl', 1.16, 33.4, 2.3, 131.0, 7.5, 14.9, 6.0, 60],\n",
       "       ['d', 1.23, 27.6, 2.83, 121.0, 27.9, 6.7, 31.7, 67],\n",
       "       ['e1', 1.24, 25.5, 3.6, 113.0, 5.3, 21.1, 60.0, 86],\n",
       "       ['e2', 1.2, 27.7, 3.4, 108.0, 37.4, 9.9, 39.9, 71],\n",
       "       ['ey', 1.33, 29.4, 2.3, 120.0, 13.5, 6.9, 38.3, 72],\n",
       "       ['fli', 1.11, 35.1, 3.51, 123.0, 67.2, 2.5, 5.9, 46],\n",
       "       ['g10', 1.14, 29.9, 2.9, 116.0, 5.3, 55.3, 63.2, 84],\n",
       "       ['g11', 1.16, 27.9, 3.0, 116.0, 3.5, 23.7, 64.8, 85],\n",
       "       ['g2', 1.22, 29.5, 3.0, 116.0, 6.0, 39.7, 50.2, 78],\n",
       "       ['g4', 1.23, 29.0, 2.9, 116.0, 8.0, 24.0, 60.0, 87],\n",
       "       ['g5', 1.25, 30.2, 2.8, 118.0, 7.5, 37.7, 43.9, 78],\n",
       "       ['g6', 1.19, 31.6, 2.4, 115.0, 0.0, 33.3, 58.7, 82],\n",
       "       ['ga1', 1.11, 21.8, 3.6, 112.0, 2.5, 22.7, 92.3, 98],\n",
       "       ['ga2', 1.22, 34.2, 2.6, nan, 46.3, 0.0, 63.6, 82],\n",
       "       ['goe', 1.07, 19.8, 4.15, 117.0, 0.0, 28.5, 61.9, 92],\n",
       "       ['gra', 1.31, 19.5, 3.83, 114.0, 14.0, 14.0, 57.0, 86],\n",
       "       ['gro', 1.24, 36.0, 3.36, 125.0, 45.5, 9.0, 18.2, 55],\n",
       "       ['gue', 1.17, 31.5, 2.52, 125.0, 18.9, 15.8, 21.1, 58],\n",
       "       ['hey', 1.11, 28.3, 2.5, 124.0, 10.7, 25.0, 25.0, 74],\n",
       "       ['hu', 1.41, 23.8, 3.2, 118.0, 25.5, 15.5, 26.8, 72],\n",
       "       ['hx', 1.26, 23.6, 3.2, 118.0, 16.3, 6.7, 28.9, 69],\n",
       "       ['ka', 1.24, 19.4, 3.7, 111.0, 5.6, 21.5, 72.2, 91],\n",
       "       ['kb', 1.21, 24.1, 3.8, 116.0, 1.2, 32.5, 83.3, 94],\n",
       "       ['kc', 1.21, 23.3, 3.9, 110.0, 1.6, 35.5, 94.1, 95],\n",
       "       ['l', 1.28, 19.5, 3.44, 110.0, 0.0, 15.0, nan, 98],\n",
       "       ['li', 1.17, 16.5, 3.97, 111.0, 1.2, 50.0, 75.6, 90],\n",
       "       ['lue', 1.31, 26.5, 2.28, 126.0, 2.1, 18.6, 34.0, 77],\n",
       "       ['m', 1.2, 27.2, 3.0, 121.0, nan, nan, 25.1, 61],\n",
       "       ['mar', 1.02, 33.4, 2.46, 123.0, 37.5, 18.8, 18.8, 66],\n",
       "       ['ml', 1.04, 29.4, 3.1, 120.0, 28.6, 12.7, 15.9, 62],\n",
       "       ['mr', 1.15, 30.2, 2.7, 124.0, 16.3, 20.2, 26.2, 63],\n",
       "       ['ms', 1.08, 33.6, 3.6, 128.0, 35.7, 0.0, 14.3, 36],\n",
       "       ['n', 1.16, 29.3, 3.12, 117.0, 15.0, 19.6, 19.6, 65],\n",
       "       ['nie', 1.2, 29.8, 2.6, 122.0, 12.7, 20.1, 23.6, 64],\n",
       "       ['pb', 1.18, 24.3, 4.9, 108.0, 20.6, 6.9, 61.8, 84],\n",
       "       ['r', 1.12, 27.7, 4.1, 117.0, 6.9, 22.5, 63.7, 85],\n",
       "       ['r1', 1.3, 23.3, 3.4, 112.0, 3.8, 25.4, 68.9, 87],\n",
       "       ['r3', 1.12, 23.1, 3.7, 115.0, 5.8, 13.9, 80.6, 92],\n",
       "       ['reh', 1.29, 29.4, 1.99, 121.0, 22.2, 11.1, 30.6, 77],\n",
       "       ['roe', 1.26, 27.5, 2.41, 121.0, 31.7, 20.2, 24.0, 62],\n",
       "       ['s1', 1.03, 23.3, 3.5, 115.0, 2.1, 17.2, 78.0, 92],\n",
       "       ['s2', 1.15, 22.9, 3.8, 112.0, 3.8, 26.2, 76.3, 91],\n",
       "       ['s4', 1.14, 22.4, 3.7, 115.0, 0.8, 27.1, 77.8, 91],\n",
       "       ['s5', 1.18, 26.9, 2.8, 112.0, 2.4, 22.0, 78.0, 92],\n",
       "       ['sa1', 1.44, 22.88, 3.13, 116.0, 7.7, 29.2, 59.3, 88],\n",
       "       ['sa2', 1.47, 23.43, 3.08, 118.0, 10.1, 27.8, 53.3, 86],\n",
       "       ['sa3', 1.45, 22.58, 3.24, 117.0, 5.2, 26.7, 56.5, 87],\n",
       "       ['san', 1.06, 31.8, 3.84, 125.0, 59.2, 2.9, 9.7, 52],\n",
       "       ['sk', 1.24, 34.0, 2.7, nan, nan, nan, 66.7, 85],\n",
       "       ['sm', 1.17, 27.0, 3.2, 114.0, 4.1, 21.5, 73.9, 90],\n",
       "       ['so', 1.14, 23.3, 3.3, 112.0, 4.7, 17.7, 76.2, 90],\n",
       "       ['sz', 1.22, 23.0, 3.8, 113.0, 5.7, 32.2, 60.8, 83],\n",
       "       ['t1', 1.38, 27.5, 3.3, 115.0, 14.4, 19.2, 59.5, 84],\n",
       "       ['t2', 1.34, 31.0, 3.4, 112.0, 23.1, 19.2, 55.2, 72],\n",
       "       ['ta', 1.22, 40.6, 2.3, nan, 56.9, 13.7, 67.8, 87],\n",
       "       ['tb', 1.39, 27.2, 3.1, 107.0, 10.8, 27.0, 76.2, 88],\n",
       "       ['v1', 1.04, 30.2, 2.6, 116.0, 29.2, 2.5, 19.2, 67],\n",
       "       ['v2', 1.17, 38.6, 2.5, 107.0, 41.1, 0.5, 16.8, 50],\n",
       "       ['va', 1.69, 25.6, 1.66, 123.0, 0.0, 0.0, 40.0, 92],\n",
       "       ['w1', 1.14, 31.8, 3.1, 118.0, 11.4, 12.1, 52.1, 80],\n",
       "       ['w2', 1.06, 34.3, 3.0, 116.0, 16.7, 12.5, 50.0, 74],\n",
       "       ['wd', 1.16, 36.0, 3.0, 127.0, 36.4, 10.2, 9.4, 53],\n",
       "       ['we', 1.1, 22.0, 3.72, 107.0, 23.7, 10.4, 51.8, 85],\n",
       "       ['wl', 1.09, 38.1, 2.25, 119.0, 8.5, 7.0, 23.0, 90],\n",
       "       ['wn', 1.04, 30.4, 2.7, 118.0, 33.3, 5.1, 28.2, 66],\n",
       "       ['woe', 1.14, 31.9, 2.07, 121.0, 15.0, 10.0, 5.0, 47],\n",
       "       ['wol', 1.24, 27.2, 3.0, 120.0, 29.1, 13.8, 34.4, 70],\n",
       "       ['wst', 1.15, 38.0, 2.25, 125.0, 9.5, 6.4, 13.0, 88],\n",
       "       ['z', 1.37, 26.0, 3.22, 125.0, 12.6, 21.5, 28.6, 61]], dtype=object)"
      ]
     },
     "execution_count": 41,
     "metadata": {},
     "output_type": "execute_result"
    }
   ],
   "source": [
    "values"
   ]
  },
  {
   "cell_type": "markdown",
   "metadata": {},
   "source": [
    "### Note: \n",
    "#### if the dataset file didn't contain column headers use the parameter ``header=None`` in the ``read_csv``, otherwise the first row  of data will be considered as the header. \n",
    "#### To assign new column names to the dataframe, then use ``.columns ``  property  of the Pandas dataframe  using array-like list"
   ]
  },
  {
   "cell_type": "code",
   "execution_count": 56,
   "metadata": {},
   "outputs": [
    {
     "data": {
      "text/plain": [
       "Index(['ID', 'LBI', 'RTI', 'WDI', 'FLA', 'PSF', 'FSF', 'ZDF1', 'PROZD'], dtype='object')"
      ]
     },
     "execution_count": 56,
     "metadata": {},
     "output_type": "execute_result"
    }
   ],
   "source": [
    "notclean.columns"
   ]
  },
  {
   "cell_type": "code",
   "execution_count": 42,
   "metadata": {},
   "outputs": [],
   "source": [
    " notclean.columns = [\"A\", \"B\", \"C\", \"D\",\"E\",\"F\",\"G\",\"H\",\"I\"]"
   ]
  },
  {
   "cell_type": "code",
   "execution_count": 43,
   "metadata": {},
   "outputs": [
    {
     "data": {
      "text/html": [
       "<div>\n",
       "<style scoped>\n",
       "    .dataframe tbody tr th:only-of-type {\n",
       "        vertical-align: middle;\n",
       "    }\n",
       "\n",
       "    .dataframe tbody tr th {\n",
       "        vertical-align: top;\n",
       "    }\n",
       "\n",
       "    .dataframe thead th {\n",
       "        text-align: right;\n",
       "    }\n",
       "</style>\n",
       "<table border=\"1\" class=\"dataframe\">\n",
       "  <thead>\n",
       "    <tr style=\"text-align: right;\">\n",
       "      <th></th>\n",
       "      <th>A</th>\n",
       "      <th>B</th>\n",
       "      <th>C</th>\n",
       "      <th>D</th>\n",
       "      <th>E</th>\n",
       "      <th>F</th>\n",
       "      <th>G</th>\n",
       "      <th>H</th>\n",
       "      <th>I</th>\n",
       "    </tr>\n",
       "  </thead>\n",
       "  <tbody>\n",
       "    <tr>\n",
       "      <th>0</th>\n",
       "      <td>ar</td>\n",
       "      <td>NaN</td>\n",
       "      <td>35.3</td>\n",
       "      <td>2.60</td>\n",
       "      <td>NaN</td>\n",
       "      <td>42.4</td>\n",
       "      <td>24.2</td>\n",
       "      <td>47.1</td>\n",
       "      <td>69</td>\n",
       "    </tr>\n",
       "    <tr>\n",
       "      <th>1</th>\n",
       "      <td>arn</td>\n",
       "      <td>1.23</td>\n",
       "      <td>27.0</td>\n",
       "      <td>3.59</td>\n",
       "      <td>122.0</td>\n",
       "      <td>0.0</td>\n",
       "      <td>40.0</td>\n",
       "      <td>40.0</td>\n",
       "      <td>30</td>\n",
       "    </tr>\n",
       "    <tr>\n",
       "      <th>2</th>\n",
       "      <td>be</td>\n",
       "      <td>1.24</td>\n",
       "      <td>26.5</td>\n",
       "      <td>2.90</td>\n",
       "      <td>121.0</td>\n",
       "      <td>16.0</td>\n",
       "      <td>20.7</td>\n",
       "      <td>29.7</td>\n",
       "      <td>72</td>\n",
       "    </tr>\n",
       "    <tr>\n",
       "      <th>3</th>\n",
       "      <td>bi1</td>\n",
       "      <td>1.07</td>\n",
       "      <td>29.1</td>\n",
       "      <td>3.10</td>\n",
       "      <td>114.0</td>\n",
       "      <td>44.0</td>\n",
       "      <td>2.6</td>\n",
       "      <td>26.3</td>\n",
       "      <td>68</td>\n",
       "    </tr>\n",
       "    <tr>\n",
       "      <th>4</th>\n",
       "      <td>bi2</td>\n",
       "      <td>1.08</td>\n",
       "      <td>43.7</td>\n",
       "      <td>2.40</td>\n",
       "      <td>105.0</td>\n",
       "      <td>32.6</td>\n",
       "      <td>5.8</td>\n",
       "      <td>10.7</td>\n",
       "      <td>42</td>\n",
       "    </tr>\n",
       "  </tbody>\n",
       "</table>\n",
       "</div>"
      ],
      "text/plain": [
       "     A     B     C     D      E     F     G     H   I\n",
       "0   ar   NaN  35.3  2.60    NaN  42.4  24.2  47.1  69\n",
       "1  arn  1.23  27.0  3.59  122.0   0.0  40.0  40.0  30\n",
       "2   be  1.24  26.5  2.90  121.0  16.0  20.7  29.7  72\n",
       "3  bi1  1.07  29.1  3.10  114.0  44.0   2.6  26.3  68\n",
       "4  bi2  1.08  43.7  2.40  105.0  32.6   5.8  10.7  42"
      ]
     },
     "execution_count": 43,
     "metadata": {},
     "output_type": "execute_result"
    }
   ],
   "source": [
    "notclean[:5]"
   ]
  },
  {
   "cell_type": "code",
   "execution_count": 44,
   "metadata": {},
   "outputs": [],
   "source": [
    "# put the column lables back\n",
    "notclean.columns = columns"
   ]
  },
  {
   "cell_type": "code",
   "execution_count": 45,
   "metadata": {},
   "outputs": [
    {
     "data": {
      "text/html": [
       "<div>\n",
       "<style scoped>\n",
       "    .dataframe tbody tr th:only-of-type {\n",
       "        vertical-align: middle;\n",
       "    }\n",
       "\n",
       "    .dataframe tbody tr th {\n",
       "        vertical-align: top;\n",
       "    }\n",
       "\n",
       "    .dataframe thead th {\n",
       "        text-align: right;\n",
       "    }\n",
       "</style>\n",
       "<table border=\"1\" class=\"dataframe\">\n",
       "  <thead>\n",
       "    <tr style=\"text-align: right;\">\n",
       "      <th></th>\n",
       "      <th>ID</th>\n",
       "      <th>LBI</th>\n",
       "      <th>RTI</th>\n",
       "      <th>WDI</th>\n",
       "      <th>FLA</th>\n",
       "      <th>PSF</th>\n",
       "      <th>FSF</th>\n",
       "      <th>ZDF1</th>\n",
       "      <th>PROZD</th>\n",
       "    </tr>\n",
       "  </thead>\n",
       "  <tbody>\n",
       "    <tr>\n",
       "      <th>0</th>\n",
       "      <td>ar</td>\n",
       "      <td>NaN</td>\n",
       "      <td>35.3</td>\n",
       "      <td>2.60</td>\n",
       "      <td>NaN</td>\n",
       "      <td>42.4</td>\n",
       "      <td>24.2</td>\n",
       "      <td>47.1</td>\n",
       "      <td>69</td>\n",
       "    </tr>\n",
       "    <tr>\n",
       "      <th>1</th>\n",
       "      <td>arn</td>\n",
       "      <td>1.23</td>\n",
       "      <td>27.0</td>\n",
       "      <td>3.59</td>\n",
       "      <td>122.0</td>\n",
       "      <td>0.0</td>\n",
       "      <td>40.0</td>\n",
       "      <td>40.0</td>\n",
       "      <td>30</td>\n",
       "    </tr>\n",
       "    <tr>\n",
       "      <th>2</th>\n",
       "      <td>be</td>\n",
       "      <td>1.24</td>\n",
       "      <td>26.5</td>\n",
       "      <td>2.90</td>\n",
       "      <td>121.0</td>\n",
       "      <td>16.0</td>\n",
       "      <td>20.7</td>\n",
       "      <td>29.7</td>\n",
       "      <td>72</td>\n",
       "    </tr>\n",
       "    <tr>\n",
       "      <th>3</th>\n",
       "      <td>bi1</td>\n",
       "      <td>1.07</td>\n",
       "      <td>29.1</td>\n",
       "      <td>3.10</td>\n",
       "      <td>114.0</td>\n",
       "      <td>44.0</td>\n",
       "      <td>2.6</td>\n",
       "      <td>26.3</td>\n",
       "      <td>68</td>\n",
       "    </tr>\n",
       "    <tr>\n",
       "      <th>4</th>\n",
       "      <td>bi2</td>\n",
       "      <td>1.08</td>\n",
       "      <td>43.7</td>\n",
       "      <td>2.40</td>\n",
       "      <td>105.0</td>\n",
       "      <td>32.6</td>\n",
       "      <td>5.8</td>\n",
       "      <td>10.7</td>\n",
       "      <td>42</td>\n",
       "    </tr>\n",
       "  </tbody>\n",
       "</table>\n",
       "</div>"
      ],
      "text/plain": [
       "    ID   LBI   RTI   WDI    FLA   PSF   FSF  ZDF1  PROZD\n",
       "0   ar   NaN  35.3  2.60    NaN  42.4  24.2  47.1     69\n",
       "1  arn  1.23  27.0  3.59  122.0   0.0  40.0  40.0     30\n",
       "2   be  1.24  26.5  2.90  121.0  16.0  20.7  29.7     72\n",
       "3  bi1  1.07  29.1  3.10  114.0  44.0   2.6  26.3     68\n",
       "4  bi2  1.08  43.7  2.40  105.0  32.6   5.8  10.7     42"
      ]
     },
     "execution_count": 45,
     "metadata": {},
     "output_type": "execute_result"
    }
   ],
   "source": [
    "notclean[:5]"
   ]
  },
  {
   "cell_type": "code",
   "execution_count": null,
   "metadata": {},
   "outputs": [],
   "source": []
  },
  {
   "cell_type": "markdown",
   "metadata": {},
   "source": [
    "## <font color=green > 5- Saving to a CSV </font>"
   ]
  },
  {
   "cell_type": "markdown",
   "metadata": {},
   "source": [
    " let's save our dataframe for later use!"
   ]
  },
  {
   "cell_type": "code",
   "execution_count": 50,
   "metadata": {},
   "outputs": [],
   "source": [
    "notclean.to_csv('processedStoneFlake.csv', index=False)"
   ]
  },
  {
   "cell_type": "code",
   "execution_count": 51,
   "metadata": {},
   "outputs": [
    {
     "name": "stdout",
     "output_type": "stream",
     "text": [
      " Volume in drive C has no label.\n",
      " Volume Serial Number is B2B3-5C73\n",
      "\n",
      " Directory of C:\\SP2021\\Visualization\\Lectures\\W04\n",
      "\n",
      "01/29/2021  12:22 PM    <DIR>          .\n",
      "01/29/2021  12:22 PM    <DIR>          ..\n",
      "01/29/2021  11:44 AM    <DIR>          .ipynb_checkpoints\n",
      "01/28/2021  10:14 PM            31,709 DataFrameComponents.png\n",
      "01/28/2021  09:09 PM           447,184 L04-part1.pptx\n",
      "01/29/2021  12:24 PM             3,299 processedStoneFlake.csv\n",
      "01/29/2021  11:48 AM             3,523 StoneFlakes.dat\n",
      "01/29/2021  12:22 PM            73,185 W04-Pandas.ipynb\n",
      "01/28/2021  09:07 PM           383,978 W04-part1.pdf\n",
      "               6 File(s)        942,878 bytes\n",
      "               3 Dir(s)  28,193,800,192 bytes free\n"
     ]
    }
   ],
   "source": [
    "!dir"
   ]
  },
  {
   "cell_type": "code",
   "execution_count": 52,
   "metadata": {},
   "outputs": [
    {
     "name": "stdout",
     "output_type": "stream",
     "text": [
      "ID,LBI,RTI,WDI,FLA,PSF,FSF,ZDF1,PROZD\n",
      "ar,,35.3,2.6,,42.4,24.2,47.1,69\n",
      "arn,1.23,27.0,3.59,122.0,0.0,40.0,40.0,30\n",
      "be,1.24,26.5,2.9,121.0,16.0,20.7,29.7,72\n",
      "bi1,1.07,29.1,3.1,114.0,44.0,2.6,26.3,68\n",
      "bi2,1.08,43.7,2.4,105.0,32.6,5.8,10.7,42\n",
      "bie,1.39,29.5,2.78,126.0,14.0,0.0,50.0,78\n",
      "bn,1.31,26.3,2.1,119.0,15.7,15.7,30.4,72\n",
      "bo,1.27,27.6,3.5,116.0,16.8,23.0,35.2,69\n",
      "by,1.11,32.6,2.9,113.0,15.8,15.8,15.0,57\n",
      "c,1.32,29.5,2.57,121.0,22.0,2.0,18.0,63\n",
      "cl,1.16,33.4,2.3,131.0,7.5,14.9,6.0,60\n",
      "d,1.23,27.6,2.83,121.0,27.9,6.7,31.7,67\n",
      "e1,1.24,25.5,3.6,113.0,5.3,21.1,60.0,86\n",
      "e2,1.2,27.7,3.4,108.0,37.4,9.9,39.9,71\n",
      "ey,1.33,29.4,2.3,120.0,13.5,6.9,38.3,72\n",
      "fli,1.11,35.1,3.51,123.0,67.2,2.5,5.9,46\n",
      "g10,1.14,29.9,2.9,116.0,5.3,55.3,63.2,84\n",
      "g11,1.16,27.9,3.0,116.0,3.5,23.7,64.8,85\n",
      "g2,1.22,29.5,3.0,116.0,6.0,39.7,50.2,78\n",
      "g4,1.23,29.0,2.9,116.0,8.0,24.0,60.0,87\n",
      "g5,1.25,30.2,2.8,118.0,7.5,37.7,43.9,78\n",
      "g6,1.19,31.6,2.4,115.0,0.0,33.3,58.7,82\n",
      "ga1,1.11,21.8,3.6,112.0,2.5,22.7,92.3,98\n",
      "ga2,1.22,34.2,2.6,,46.3,0.0,63.6,82\n",
      "goe,1.07,19.8,4.15,117.0,0.0,28.5,61.9,92\n",
      "gra,1.31,19.5,3.83,114.0,14.0,14.0,57.0,86\n",
      "gro,1.24,36.0,3.36,125.0,45.5,9.0,18.2,55\n",
      "gue,1.17,31.5,2.52,125.0,18.9,15.8,21.1,58\n",
      "hey,1.11,28.3,2.5,124.0,10.7,25.0,25.0,74\n",
      "hu,1.41,23.8,3.2,118.0,25.5,15.5,26.8,72\n",
      "hx,1.26,23.6,3.2,118.0,16.3,6.7,28.9,69\n",
      "ka,1.24,19.4,3.7,111.0,5.6,21.5,72.2,91\n",
      "kb,1.21,24.1,3.8,116.0,1.2,32.5,83.3,94\n",
      "kc,1.21,23.3,3.9,110.0,1.6,35.5,94.1,95\n",
      "l,1.28,19.5,3.44,110.0,0.0,15.0,,98\n",
      "li,1.17,16.5,3.97,111.0,1.2,50.0,75.6,90\n",
      "lue,1.31,26.5,2.28,126.0,2.1,18.6,34.0,77\n",
      "m,1.2,27.2,3.0,121.0,,,25.1,61\n",
      "mar,1.02,33.4,2.46,123.0,37.5,18.8,18.8,66\n",
      "ml,1.04,29.4,3.1,120.0,28.6,12.7,15.9,62\n",
      "mr,1.15,30.2,2.7,124.0,16.3,20.2,26.2,63\n",
      "ms,1.08,33.6,3.6,128.0,35.7,0.0,14.3,36\n",
      "n,1.16,29.3,3.12,117.0,15.0,19.6,19.6,65\n",
      "nie,1.2,29.8,2.6,122.0,12.7,20.1,23.6,64\n",
      "pb,1.18,24.3,4.9,108.0,20.6,6.9,61.8,84\n",
      "r,1.12,27.7,4.1,117.0,6.9,22.5,63.7,85\n",
      "r1,1.3,23.3,3.4,112.0,3.8,25.4,68.9,87\n",
      "r3,1.12,23.1,3.7,115.0,5.8,13.9,80.6,92\n",
      "reh,1.29,29.4,1.99,121.0,22.2,11.1,30.6,77\n",
      "roe,1.26,27.5,2.41,121.0,31.7,20.2,24.0,62\n",
      "s1,1.03,23.3,3.5,115.0,2.1,17.2,78.0,92\n",
      "s2,1.15,22.9,3.8,112.0,3.8,26.2,76.3,91\n",
      "s4,1.14,22.4,3.7,115.0,0.8,27.1,77.8,91\n",
      "s5,1.18,26.9,2.8,112.0,2.4,22.0,78.0,92\n",
      "sa1,1.44,22.88,3.13,116.0,7.7,29.2,59.3,88\n",
      "sa2,1.47,23.43,3.08,118.0,10.1,27.8,53.3,86\n",
      "sa3,1.45,22.58,3.24,117.0,5.2,26.7,56.5,87\n",
      "san,1.06,31.8,3.84,125.0,59.2,2.9,9.7,52\n",
      "sk,1.24,34.0,2.7,,,,66.7,85\n",
      "sm,1.17,27.0,3.2,114.0,4.1,21.5,73.9,90\n",
      "so,1.14,23.3,3.3,112.0,4.7,17.7,76.2,90\n",
      "sz,1.22,23.0,3.8,113.0,5.7,32.2,60.8,83\n",
      "t1,1.38,27.5,3.3,115.0,14.4,19.2,59.5,84\n",
      "t2,1.34,31.0,3.4,112.0,23.1,19.2,55.2,72\n",
      "ta,1.22,40.6,2.3,,56.9,13.7,67.8,87\n",
      "tb,1.39,27.2,3.1,107.0,10.8,27.0,76.2,88\n",
      "v1,1.04,30.2,2.6,116.0,29.2,2.5,19.2,67\n",
      "v2,1.17,38.6,2.5,107.0,41.1,0.5,16.8,50\n",
      "va,1.69,25.6,1.66,123.0,0.0,0.0,40.0,92\n",
      "w1,1.14,31.8,3.1,118.0,11.4,12.1,52.1,80\n",
      "w2,1.06,34.3,3.0,116.0,16.7,12.5,50.0,74\n",
      "wd,1.16,36.0,3.0,127.0,36.4,10.2,9.4,53\n",
      "we,1.1,22.0,3.72,107.0,23.7,10.4,51.8,85\n",
      "wl,1.09,38.1,2.25,119.0,8.5,7.0,23.0,90\n",
      "wn,1.04,30.4,2.7,118.0,33.3,5.1,28.2,66\n",
      "woe,1.14,31.9,2.07,121.0,15.0,10.0,5.0,47\n",
      "wol,1.24,27.2,3.0,120.0,29.1,13.8,34.4,70\n",
      "wst,1.15,38.0,2.25,125.0,9.5,6.4,13.0,88\n",
      "z,1.37,26.0,3.22,125.0,12.6,21.5,28.6,61\n"
     ]
    }
   ],
   "source": [
    "!more processedStoneFlake.csv"
   ]
  },
  {
   "cell_type": "code",
   "execution_count": 53,
   "metadata": {},
   "outputs": [
    {
     "data": {
      "text/plain": [
       "(79, 9)"
      ]
     },
     "execution_count": 53,
     "metadata": {},
     "output_type": "execute_result"
    }
   ],
   "source": [
    "nn = pd.read_csv('processedStoneFlake.csv')\n",
    "nn.shape"
   ]
  },
  {
   "cell_type": "code",
   "execution_count": 54,
   "metadata": {},
   "outputs": [
    {
     "data": {
      "text/html": [
       "<div>\n",
       "<style scoped>\n",
       "    .dataframe tbody tr th:only-of-type {\n",
       "        vertical-align: middle;\n",
       "    }\n",
       "\n",
       "    .dataframe tbody tr th {\n",
       "        vertical-align: top;\n",
       "    }\n",
       "\n",
       "    .dataframe thead th {\n",
       "        text-align: right;\n",
       "    }\n",
       "</style>\n",
       "<table border=\"1\" class=\"dataframe\">\n",
       "  <thead>\n",
       "    <tr style=\"text-align: right;\">\n",
       "      <th></th>\n",
       "      <th>ID</th>\n",
       "      <th>LBI</th>\n",
       "      <th>RTI</th>\n",
       "      <th>WDI</th>\n",
       "      <th>FLA</th>\n",
       "      <th>PSF</th>\n",
       "      <th>FSF</th>\n",
       "      <th>ZDF1</th>\n",
       "      <th>PROZD</th>\n",
       "    </tr>\n",
       "  </thead>\n",
       "  <tbody>\n",
       "    <tr>\n",
       "      <th>0</th>\n",
       "      <td>ar</td>\n",
       "      <td>NaN</td>\n",
       "      <td>35.3</td>\n",
       "      <td>2.60</td>\n",
       "      <td>NaN</td>\n",
       "      <td>42.4</td>\n",
       "      <td>24.2</td>\n",
       "      <td>47.1</td>\n",
       "      <td>69</td>\n",
       "    </tr>\n",
       "    <tr>\n",
       "      <th>1</th>\n",
       "      <td>arn</td>\n",
       "      <td>1.23</td>\n",
       "      <td>27.0</td>\n",
       "      <td>3.59</td>\n",
       "      <td>122.0</td>\n",
       "      <td>0.0</td>\n",
       "      <td>40.0</td>\n",
       "      <td>40.0</td>\n",
       "      <td>30</td>\n",
       "    </tr>\n",
       "    <tr>\n",
       "      <th>2</th>\n",
       "      <td>be</td>\n",
       "      <td>1.24</td>\n",
       "      <td>26.5</td>\n",
       "      <td>2.90</td>\n",
       "      <td>121.0</td>\n",
       "      <td>16.0</td>\n",
       "      <td>20.7</td>\n",
       "      <td>29.7</td>\n",
       "      <td>72</td>\n",
       "    </tr>\n",
       "    <tr>\n",
       "      <th>3</th>\n",
       "      <td>bi1</td>\n",
       "      <td>1.07</td>\n",
       "      <td>29.1</td>\n",
       "      <td>3.10</td>\n",
       "      <td>114.0</td>\n",
       "      <td>44.0</td>\n",
       "      <td>2.6</td>\n",
       "      <td>26.3</td>\n",
       "      <td>68</td>\n",
       "    </tr>\n",
       "    <tr>\n",
       "      <th>4</th>\n",
       "      <td>bi2</td>\n",
       "      <td>1.08</td>\n",
       "      <td>43.7</td>\n",
       "      <td>2.40</td>\n",
       "      <td>105.0</td>\n",
       "      <td>32.6</td>\n",
       "      <td>5.8</td>\n",
       "      <td>10.7</td>\n",
       "      <td>42</td>\n",
       "    </tr>\n",
       "  </tbody>\n",
       "</table>\n",
       "</div>"
      ],
      "text/plain": [
       "    ID   LBI   RTI   WDI    FLA   PSF   FSF  ZDF1  PROZD\n",
       "0   ar   NaN  35.3  2.60    NaN  42.4  24.2  47.1     69\n",
       "1  arn  1.23  27.0  3.59  122.0   0.0  40.0  40.0     30\n",
       "2   be  1.24  26.5  2.90  121.0  16.0  20.7  29.7     72\n",
       "3  bi1  1.07  29.1  3.10  114.0  44.0   2.6  26.3     68\n",
       "4  bi2  1.08  43.7  2.40  105.0  32.6   5.8  10.7     42"
      ]
     },
     "execution_count": 54,
     "metadata": {},
     "output_type": "execute_result"
    }
   ],
   "source": [
    "nn[:5]"
   ]
  },
  {
   "cell_type": "markdown",
   "metadata": {},
   "source": [
    "# <font color=red> Learning Activity </font>"
   ]
  },
  {
   "cell_type": "markdown",
   "metadata": {},
   "source": [
    "* Search for a data set with missing data (you can use the UCI repository above)\n",
    "* download the dataset using (1) the OS command, (2) using read_csv\n",
    "* what symbol(s) are used for missing values?\n",
    "* read the dataset into pandas frame\n",
    "* display the header of the list (the column names). \n",
    "    * what if the dataset doesn't have headers? (see the ``read_csv`` documentation)\n",
    "* replace the missing values by NaN in the dataframe\n",
    "* save the new dataset into a new csv file"
   ]
  },
  {
   "cell_type": "code",
   "execution_count": null,
   "metadata": {},
   "outputs": [],
   "source": []
  },
  {
   "cell_type": "code",
   "execution_count": null,
   "metadata": {},
   "outputs": [],
   "source": []
  }
 ],
 "metadata": {
  "kernelspec": {
   "display_name": "Python 3",
   "language": "python",
   "name": "python3"
  },
  "language_info": {
   "codemirror_mode": {
    "name": "ipython",
    "version": 3
   },
   "file_extension": ".py",
   "mimetype": "text/x-python",
   "name": "python",
   "nbconvert_exporter": "python",
   "pygments_lexer": "ipython3",
   "version": "3.8.6"
  }
 },
 "nbformat": 4,
 "nbformat_minor": 2
}
